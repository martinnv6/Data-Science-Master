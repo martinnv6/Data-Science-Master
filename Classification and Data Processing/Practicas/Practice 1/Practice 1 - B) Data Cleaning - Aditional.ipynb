{
  "cells": [
    {
      "cell_type": "markdown",
      "metadata": {
        "id": "1GasE0BGkf45"
      },
      "source": [
        "# **1. Manejar datos nulos**"
      ]
    },
    {
      "attachments": {},
      "cell_type": "markdown",
      "metadata": {
        "id": "aZ_ijWY3Qqmu"
      },
      "source": [
        "## Paso 1: Cargar los datos.\n",
        "\n",
        "---\n",
        "\n",
        "\n",
        "Para poder iniciar con la limpieza de datos, lo primero que tenemos que hacer es importar las librerías que vamos a utilizar.\n",
        "\n",
        "<s>Para esta demostración estaremos utilizando el dataset de American Football games, descargado de la página de Kaggle.\n",
        "Strike\n",
        "https://www.kaggle.com/maxhorowitz/nflplaybyplay2009to2016/version/6</s>\n",
        "\n",
        "Para esta demostración estaremos utilizando el dataset de wine-reviews, descargado de la página de Kaggle.\n",
        "https://www.kaggle.com/datasets/zynicide/wine-reviews/versions/4?resource=download\n",
        "\n",
        "Primeros pasos:\n",
        "- Crea una cuenta en Kaggle.\n",
        "- Descarga el dataset de la liga anterior.\n",
        "- Nombra la carpeta **Datasets** y guardala dentro de una carpeta de google drive a la que tengas acceso.\n",
        "\n",
        "Una vez que tengas la carpeta guardada, seguiras los siguientes pasos en google collab.\n",
        "\n",
        "- En la parte izquierda de tu pantalla en google collab, está una barra de herramientas vertical. Selecciona el icono que asemeja una carpeta, llamado \"Archivos\".\n",
        "- Dentro apareceran todos los archivos que tienes disponibles para usar en tu cuaderno de collab. Aqui vamos a agregar un camino a la carpeta de **Datasets** que guardaste en tu carpeta personal de Drive.\n",
        "\n",
        "De la parte superior de la pestaña que acabas de abrir de archivos, hay tres iconos:\n",
        "\n",
        "- El primer icono es para subir archivos manualmente, pero estos van a desaparecer en cuanto cierres la sesión, por lo que tendrás que subir el archivo repetidas veces.\n",
        "- El segundo es para actualizar las carpetas, en caso de que lleves mucho tiempo sin usar el notebook, solo para asegurar que los archivos siguen disponibles.\n",
        "- El tercer icono es para enlazar tu Drive al google collab y que puedas ver todas tus carpetas.\n",
        "\n",
        "Vamos a usar este tercer icono. Para que este funcione debes de abrir e iniciar sesión en tu google Collab desde la cuenta de google en la que tambien tengas tu Drive."
      ]
    },
    {
      "cell_type": "code",
      "execution_count": 43,
      "metadata": {},
      "outputs": [],
      "source": [
        "# Este notebook fue creado usando Visual Studio Code + Anaconda + Windows + github\n",
        "# entonces el dataset .csv esta siendo cargado de la misma carpeta y no usando google drive\n",
        "\n",
        "# from google.colab import drive\n",
        "# drive.mount('/content/drive')"
      ]
    },
    {
      "cell_type": "code",
      "execution_count": 44,
      "metadata": {
        "colab": {
          "base_uri": "https://localhost:8080/"
        },
        "id": "mN4ngE4RZEYd",
        "outputId": "f92d61ce-4669-4d29-b5bf-d1a5270cbac6"
      },
      "outputs": [],
      "source": [
        "# Librerías para utilizar\n",
        "\n",
        "import pandas as pd\n",
        "import numpy as np\n",
        "\n",
        "# Cargar nuestra base de datos\n",
        "datos_vinos = pd.read_csv(\"winemag-data-130k-v2.csv\")\n",
        "\n",
        "# Cargar semilla para poder dar reproducibilidad (1)\n",
        "np.random.seed(0)\n"
      ]
    },
    {
      "cell_type": "markdown",
      "metadata": {
        "id": "6043v0VZit72"
      },
      "source": [
        "Ya que nuestro dataset este cargado correctamente, podemos visualizarlo. La próxima linea de código te permitirá verificar si tus datos se cargaron correctamente. De igual manera, a pesar de que es solo una muestra de los datos, podemos revisar si existen datos faltantes o nulos, que se representan con **NaN** o **None**."
      ]
    },
    {
      "cell_type": "code",
      "execution_count": 45,
      "metadata": {
        "colab": {
          "base_uri": "https://localhost:8080/",
          "height": 560
        },
        "id": "4hHoSJ6xjWh6",
        "outputId": "b1f3ba54-3244-4b4a-9958-86447d0b35a9"
      },
      "outputs": [
        {
          "data": {
            "text/html": [
              "<div>\n",
              "<style scoped>\n",
              "    .dataframe tbody tr th:only-of-type {\n",
              "        vertical-align: middle;\n",
              "    }\n",
              "\n",
              "    .dataframe tbody tr th {\n",
              "        vertical-align: top;\n",
              "    }\n",
              "\n",
              "    .dataframe thead th {\n",
              "        text-align: right;\n",
              "    }\n",
              "</style>\n",
              "<table border=\"1\" class=\"dataframe\">\n",
              "  <thead>\n",
              "    <tr style=\"text-align: right;\">\n",
              "      <th></th>\n",
              "      <th>Unnamed: 0</th>\n",
              "      <th>country</th>\n",
              "      <th>description</th>\n",
              "      <th>designation</th>\n",
              "      <th>points</th>\n",
              "      <th>price</th>\n",
              "      <th>province</th>\n",
              "      <th>region_1</th>\n",
              "      <th>region_2</th>\n",
              "      <th>taster_name</th>\n",
              "      <th>taster_twitter_handle</th>\n",
              "      <th>title</th>\n",
              "      <th>variety</th>\n",
              "      <th>winery</th>\n",
              "    </tr>\n",
              "  </thead>\n",
              "  <tbody>\n",
              "    <tr>\n",
              "      <th>0</th>\n",
              "      <td>0</td>\n",
              "      <td>Italy</td>\n",
              "      <td>Aromas include tropical fruit, broom, brimston...</td>\n",
              "      <td>Vulkà Bianco</td>\n",
              "      <td>87</td>\n",
              "      <td>NaN</td>\n",
              "      <td>Sicily &amp; Sardinia</td>\n",
              "      <td>Etna</td>\n",
              "      <td>NaN</td>\n",
              "      <td>Kerin O’Keefe</td>\n",
              "      <td>@kerinokeefe</td>\n",
              "      <td>Nicosia 2013 Vulkà Bianco  (Etna)</td>\n",
              "      <td>White Blend</td>\n",
              "      <td>Nicosia</td>\n",
              "    </tr>\n",
              "    <tr>\n",
              "      <th>1</th>\n",
              "      <td>1</td>\n",
              "      <td>Portugal</td>\n",
              "      <td>This is ripe and fruity, a wine that is smooth...</td>\n",
              "      <td>Avidagos</td>\n",
              "      <td>87</td>\n",
              "      <td>15.0</td>\n",
              "      <td>Douro</td>\n",
              "      <td>NaN</td>\n",
              "      <td>NaN</td>\n",
              "      <td>Roger Voss</td>\n",
              "      <td>@vossroger</td>\n",
              "      <td>Quinta dos Avidagos 2011 Avidagos Red (Douro)</td>\n",
              "      <td>Portuguese Red</td>\n",
              "      <td>Quinta dos Avidagos</td>\n",
              "    </tr>\n",
              "    <tr>\n",
              "      <th>2</th>\n",
              "      <td>2</td>\n",
              "      <td>US</td>\n",
              "      <td>Tart and snappy, the flavors of lime flesh and...</td>\n",
              "      <td>NaN</td>\n",
              "      <td>87</td>\n",
              "      <td>14.0</td>\n",
              "      <td>Oregon</td>\n",
              "      <td>Willamette Valley</td>\n",
              "      <td>Willamette Valley</td>\n",
              "      <td>Paul Gregutt</td>\n",
              "      <td>@paulgwine</td>\n",
              "      <td>Rainstorm 2013 Pinot Gris (Willamette Valley)</td>\n",
              "      <td>Pinot Gris</td>\n",
              "      <td>Rainstorm</td>\n",
              "    </tr>\n",
              "    <tr>\n",
              "      <th>3</th>\n",
              "      <td>3</td>\n",
              "      <td>US</td>\n",
              "      <td>Pineapple rind, lemon pith and orange blossom ...</td>\n",
              "      <td>Reserve Late Harvest</td>\n",
              "      <td>87</td>\n",
              "      <td>13.0</td>\n",
              "      <td>Michigan</td>\n",
              "      <td>Lake Michigan Shore</td>\n",
              "      <td>NaN</td>\n",
              "      <td>Alexander Peartree</td>\n",
              "      <td>NaN</td>\n",
              "      <td>St. Julian 2013 Reserve Late Harvest Riesling ...</td>\n",
              "      <td>Riesling</td>\n",
              "      <td>St. Julian</td>\n",
              "    </tr>\n",
              "    <tr>\n",
              "      <th>4</th>\n",
              "      <td>4</td>\n",
              "      <td>US</td>\n",
              "      <td>Much like the regular bottling from 2012, this...</td>\n",
              "      <td>Vintner's Reserve Wild Child Block</td>\n",
              "      <td>87</td>\n",
              "      <td>65.0</td>\n",
              "      <td>Oregon</td>\n",
              "      <td>Willamette Valley</td>\n",
              "      <td>Willamette Valley</td>\n",
              "      <td>Paul Gregutt</td>\n",
              "      <td>@paulgwine</td>\n",
              "      <td>Sweet Cheeks 2012 Vintner's Reserve Wild Child...</td>\n",
              "      <td>Pinot Noir</td>\n",
              "      <td>Sweet Cheeks</td>\n",
              "    </tr>\n",
              "  </tbody>\n",
              "</table>\n",
              "</div>"
            ],
            "text/plain": [
              "   Unnamed: 0   country                                        description  \\\n",
              "0           0     Italy  Aromas include tropical fruit, broom, brimston...   \n",
              "1           1  Portugal  This is ripe and fruity, a wine that is smooth...   \n",
              "2           2        US  Tart and snappy, the flavors of lime flesh and...   \n",
              "3           3        US  Pineapple rind, lemon pith and orange blossom ...   \n",
              "4           4        US  Much like the regular bottling from 2012, this...   \n",
              "\n",
              "                          designation  points  price           province  \\\n",
              "0                        Vulkà Bianco      87    NaN  Sicily & Sardinia   \n",
              "1                            Avidagos      87   15.0              Douro   \n",
              "2                                 NaN      87   14.0             Oregon   \n",
              "3                Reserve Late Harvest      87   13.0           Michigan   \n",
              "4  Vintner's Reserve Wild Child Block      87   65.0             Oregon   \n",
              "\n",
              "              region_1           region_2         taster_name  \\\n",
              "0                 Etna                NaN       Kerin O’Keefe   \n",
              "1                  NaN                NaN          Roger Voss   \n",
              "2    Willamette Valley  Willamette Valley        Paul Gregutt   \n",
              "3  Lake Michigan Shore                NaN  Alexander Peartree   \n",
              "4    Willamette Valley  Willamette Valley        Paul Gregutt   \n",
              "\n",
              "  taster_twitter_handle                                              title  \\\n",
              "0          @kerinokeefe                  Nicosia 2013 Vulkà Bianco  (Etna)   \n",
              "1            @vossroger      Quinta dos Avidagos 2011 Avidagos Red (Douro)   \n",
              "2           @paulgwine       Rainstorm 2013 Pinot Gris (Willamette Valley)   \n",
              "3                   NaN  St. Julian 2013 Reserve Late Harvest Riesling ...   \n",
              "4           @paulgwine   Sweet Cheeks 2012 Vintner's Reserve Wild Child...   \n",
              "\n",
              "          variety               winery  \n",
              "0     White Blend              Nicosia  \n",
              "1  Portuguese Red  Quinta dos Avidagos  \n",
              "2      Pinot Gris            Rainstorm  \n",
              "3        Riesling           St. Julian  \n",
              "4      Pinot Noir         Sweet Cheeks  "
            ]
          },
          "execution_count": 45,
          "metadata": {},
          "output_type": "execute_result"
        }
      ],
      "source": [
        "# Para poder ver los primeros datos podemos usar el valor head() que nos muestra\n",
        "#por default las primeras 5 filas del archivo. Si quieremos visualizar más\n",
        "#podemos agregar dentro del parentesis el número de filas que queremos visualizar\n",
        "# Ej. head(10)\n",
        "\n",
        "datos_vinos.head()"
      ]
    },
    {
      "cell_type": "code",
      "execution_count": 46,
      "metadata": {
        "colab": {
          "base_uri": "https://localhost:8080/",
          "height": 595
        },
        "id": "AaF5cLXnVOXe",
        "outputId": "8402e45b-04f3-4597-bae6-f62e2eea3446"
      },
      "outputs": [
        {
          "data": {
            "text/html": [
              "<div>\n",
              "<style scoped>\n",
              "    .dataframe tbody tr th:only-of-type {\n",
              "        vertical-align: middle;\n",
              "    }\n",
              "\n",
              "    .dataframe tbody tr th {\n",
              "        vertical-align: top;\n",
              "    }\n",
              "\n",
              "    .dataframe thead th {\n",
              "        text-align: right;\n",
              "    }\n",
              "</style>\n",
              "<table border=\"1\" class=\"dataframe\">\n",
              "  <thead>\n",
              "    <tr style=\"text-align: right;\">\n",
              "      <th></th>\n",
              "      <th>Unnamed: 0</th>\n",
              "      <th>country</th>\n",
              "      <th>description</th>\n",
              "      <th>designation</th>\n",
              "      <th>points</th>\n",
              "      <th>price</th>\n",
              "      <th>province</th>\n",
              "      <th>region_1</th>\n",
              "      <th>region_2</th>\n",
              "      <th>taster_name</th>\n",
              "      <th>taster_twitter_handle</th>\n",
              "      <th>title</th>\n",
              "      <th>variety</th>\n",
              "      <th>winery</th>\n",
              "    </tr>\n",
              "  </thead>\n",
              "  <tbody>\n",
              "    <tr>\n",
              "      <th>129966</th>\n",
              "      <td>129966</td>\n",
              "      <td>Germany</td>\n",
              "      <td>Notes of honeysuckle and cantaloupe sweeten th...</td>\n",
              "      <td>Brauneberger Juffer-Sonnenuhr Spätlese</td>\n",
              "      <td>90</td>\n",
              "      <td>28.0</td>\n",
              "      <td>Mosel</td>\n",
              "      <td>NaN</td>\n",
              "      <td>NaN</td>\n",
              "      <td>Anna Lee C. Iijima</td>\n",
              "      <td>NaN</td>\n",
              "      <td>Dr. H. Thanisch (Erben Müller-Burggraef) 2013 ...</td>\n",
              "      <td>Riesling</td>\n",
              "      <td>Dr. H. Thanisch (Erben Müller-Burggraef)</td>\n",
              "    </tr>\n",
              "    <tr>\n",
              "      <th>129967</th>\n",
              "      <td>129967</td>\n",
              "      <td>US</td>\n",
              "      <td>Citation is given as much as a decade of bottl...</td>\n",
              "      <td>NaN</td>\n",
              "      <td>90</td>\n",
              "      <td>75.0</td>\n",
              "      <td>Oregon</td>\n",
              "      <td>Oregon</td>\n",
              "      <td>Oregon Other</td>\n",
              "      <td>Paul Gregutt</td>\n",
              "      <td>@paulgwine</td>\n",
              "      <td>Citation 2004 Pinot Noir (Oregon)</td>\n",
              "      <td>Pinot Noir</td>\n",
              "      <td>Citation</td>\n",
              "    </tr>\n",
              "    <tr>\n",
              "      <th>129968</th>\n",
              "      <td>129968</td>\n",
              "      <td>France</td>\n",
              "      <td>Well-drained gravel soil gives this wine its c...</td>\n",
              "      <td>Kritt</td>\n",
              "      <td>90</td>\n",
              "      <td>30.0</td>\n",
              "      <td>Alsace</td>\n",
              "      <td>Alsace</td>\n",
              "      <td>NaN</td>\n",
              "      <td>Roger Voss</td>\n",
              "      <td>@vossroger</td>\n",
              "      <td>Domaine Gresser 2013 Kritt Gewurztraminer (Als...</td>\n",
              "      <td>Gewürztraminer</td>\n",
              "      <td>Domaine Gresser</td>\n",
              "    </tr>\n",
              "    <tr>\n",
              "      <th>129969</th>\n",
              "      <td>129969</td>\n",
              "      <td>France</td>\n",
              "      <td>A dry style of Pinot Gris, this is crisp with ...</td>\n",
              "      <td>NaN</td>\n",
              "      <td>90</td>\n",
              "      <td>32.0</td>\n",
              "      <td>Alsace</td>\n",
              "      <td>Alsace</td>\n",
              "      <td>NaN</td>\n",
              "      <td>Roger Voss</td>\n",
              "      <td>@vossroger</td>\n",
              "      <td>Domaine Marcel Deiss 2012 Pinot Gris (Alsace)</td>\n",
              "      <td>Pinot Gris</td>\n",
              "      <td>Domaine Marcel Deiss</td>\n",
              "    </tr>\n",
              "    <tr>\n",
              "      <th>129970</th>\n",
              "      <td>129970</td>\n",
              "      <td>France</td>\n",
              "      <td>Big, rich and off-dry, this is powered by inte...</td>\n",
              "      <td>Lieu-dit Harth Cuvée Caroline</td>\n",
              "      <td>90</td>\n",
              "      <td>21.0</td>\n",
              "      <td>Alsace</td>\n",
              "      <td>Alsace</td>\n",
              "      <td>NaN</td>\n",
              "      <td>Roger Voss</td>\n",
              "      <td>@vossroger</td>\n",
              "      <td>Domaine Schoffit 2012 Lieu-dit Harth Cuvée Car...</td>\n",
              "      <td>Gewürztraminer</td>\n",
              "      <td>Domaine Schoffit</td>\n",
              "    </tr>\n",
              "  </tbody>\n",
              "</table>\n",
              "</div>"
            ],
            "text/plain": [
              "        Unnamed: 0  country  \\\n",
              "129966      129966  Germany   \n",
              "129967      129967       US   \n",
              "129968      129968   France   \n",
              "129969      129969   France   \n",
              "129970      129970   France   \n",
              "\n",
              "                                              description  \\\n",
              "129966  Notes of honeysuckle and cantaloupe sweeten th...   \n",
              "129967  Citation is given as much as a decade of bottl...   \n",
              "129968  Well-drained gravel soil gives this wine its c...   \n",
              "129969  A dry style of Pinot Gris, this is crisp with ...   \n",
              "129970  Big, rich and off-dry, this is powered by inte...   \n",
              "\n",
              "                                   designation  points  price province  \\\n",
              "129966  Brauneberger Juffer-Sonnenuhr Spätlese      90   28.0    Mosel   \n",
              "129967                                     NaN      90   75.0   Oregon   \n",
              "129968                                   Kritt      90   30.0   Alsace   \n",
              "129969                                     NaN      90   32.0   Alsace   \n",
              "129970           Lieu-dit Harth Cuvée Caroline      90   21.0   Alsace   \n",
              "\n",
              "       region_1      region_2         taster_name taster_twitter_handle  \\\n",
              "129966      NaN           NaN  Anna Lee C. Iijima                   NaN   \n",
              "129967   Oregon  Oregon Other        Paul Gregutt           @paulgwine    \n",
              "129968   Alsace           NaN          Roger Voss            @vossroger   \n",
              "129969   Alsace           NaN          Roger Voss            @vossroger   \n",
              "129970   Alsace           NaN          Roger Voss            @vossroger   \n",
              "\n",
              "                                                    title         variety  \\\n",
              "129966  Dr. H. Thanisch (Erben Müller-Burggraef) 2013 ...        Riesling   \n",
              "129967                  Citation 2004 Pinot Noir (Oregon)      Pinot Noir   \n",
              "129968  Domaine Gresser 2013 Kritt Gewurztraminer (Als...  Gewürztraminer   \n",
              "129969      Domaine Marcel Deiss 2012 Pinot Gris (Alsace)      Pinot Gris   \n",
              "129970  Domaine Schoffit 2012 Lieu-dit Harth Cuvée Car...  Gewürztraminer   \n",
              "\n",
              "                                          winery  \n",
              "129966  Dr. H. Thanisch (Erben Müller-Burggraef)  \n",
              "129967                                  Citation  \n",
              "129968                           Domaine Gresser  \n",
              "129969                      Domaine Marcel Deiss  \n",
              "129970                          Domaine Schoffit  "
            ]
          },
          "execution_count": 46,
          "metadata": {},
          "output_type": "execute_result"
        }
      ],
      "source": [
        "datos_vinos.tail()"
      ]
    },
    {
      "cell_type": "markdown",
      "metadata": {
        "id": "BJ-bf1AgVb9-"
      },
      "source": [
        "## Paso 2: Revisar que tantos valores nulos tenemos.\n",
        "\n",
        "A pesar de solo ser un pequeño extracto de toda la base de datos, vemos que tenemos varios datos como nulos. El siguiente paso es verificar que tantos datos nulos tenemos por columna."
      ]
    },
    {
      "cell_type": "code",
      "execution_count": 47,
      "metadata": {
        "colab": {
          "base_uri": "https://localhost:8080/"
        },
        "id": "qoy7jo8MV0Lb",
        "outputId": "496701ad-9271-4528-d5e0-813ea1c004a9"
      },
      "outputs": [
        {
          "data": {
            "text/plain": [
              "Unnamed: 0         0\n",
              "country           63\n",
              "description        0\n",
              "designation    37465\n",
              "points             0\n",
              "price           8996\n",
              "province          63\n",
              "region_1       21247\n",
              "region_2       79460\n",
              "taster_name    26244\n",
              "dtype: int64"
            ]
          },
          "execution_count": 47,
          "metadata": {},
          "output_type": "execute_result"
        }
      ],
      "source": [
        "# Esta linea nos dice el numero de datos nulos por columna\n",
        "valores_nulos = datos_vinos.isnull().sum()\n",
        "\n",
        "#Esta nos muestra los valores nulos de las primeras 10 columnas.\n",
        "#valores_nulos\n",
        "valores_nulos[0:10]"
      ]
    },
    {
      "cell_type": "code",
      "execution_count": 48,
      "metadata": {
        "colab": {
          "base_uri": "https://localhost:8080/"
        },
        "id": "-h5K9ebIWo7P",
        "outputId": "95e57a98-00cb-49a3-f68d-868b36f5056a"
      },
      "outputs": [
        {
          "data": {
            "text/plain": [
              "(129971, 14)"
            ]
          },
          "execution_count": 48,
          "metadata": {},
          "output_type": "execute_result"
        }
      ],
      "source": [
        "#Para verificar cuantas filas y columnas tiene nuestra base de datos.\n",
        "datos_vinos.shape"
      ]
    },
    {
      "cell_type": "markdown",
      "metadata": {
        "id": "FMFz7iTWXcZV"
      },
      "source": [
        "Es muy util saber cuantos valores nulos tenemos por columna, pero no sabremos la magnitud del trabajo que tenemos que realizar con esta base de datos si no sabemos el porcentaje de valores nulos que tenemos que revisar. \n",
        "\n",
        "Para esto, tenemos la siguiente linea de código en la que revisamos el porcentaje de datos nulos.\n"
      ]
    },
    {
      "cell_type": "code",
      "execution_count": 49,
      "metadata": {
        "colab": {
          "base_uri": "https://localhost:8080/"
        },
        "id": "cdszr4nKXqoq",
        "outputId": "6ae38fb3-c005-4a4c-e7a8-5705a7c7a745"
      },
      "outputs": [
        {
          "name": "stdout",
          "output_type": "stream",
          "text": [
            "11.252620089976116\n"
          ]
        }
      ],
      "source": [
        "#Revisamos primero cuantos valores nulos en total tenemos\n",
        "total_celdas = np.product(datos_vinos.shape)\n",
        "total_nulos = valores_nulos.sum()\n",
        "\n",
        "#Sacamos el porcentaje de valores perdidos.\n",
        "total_nulos = (total_nulos/total_celdas) * 100\n",
        "print(total_nulos)"
      ]
    },
    {
      "cell_type": "markdown",
      "metadata": {
        "id": "7YwNrWi7YrMX"
      },
      "source": [
        "Con este resultado podemos ver que casi un cuarto de los datos de este dataset esta vacio o es nulo. \n",
        "\n",
        "\n",
        "## Paso 3: Averiguar porque estan esos datos faltantes.\n",
        "\n",
        "Antes de empezar con cualquier parte de codificación, una parte importante de la ciencia de datos es comprender los datos lo más posible de manera visual. A esto nos referimos a que tenemos que revisar detalladamente nuestros datos y hacernos preguntas primero para poder llegar a conclusiones de porque los datos pueden estar faltantes.\n",
        "\n",
        "Una de las preguntas más importantes que podemos hacernos en este momento es:\n",
        "\n",
        "- ¿Los valores faltan porque no existen, o porque no fueron grabados correctamente?\n",
        "\n",
        "Si el valor faltante esta ahí porque no existe (por ejemplo, cuando se pide llenar un formulario, y una de las preguntas no especifica que hacer cuando esa pregunta no aplica para ti, lo más probable es que dejes esa pregunta vacia). Con este tipo de valores, es mejor que en lugar de dejarlos vacios los rellenemos con el valor NaN. \n",
        "\n",
        "Por otro lado, si el valor es nulo por error cuando se realizo la base de datos, entonces será necesario que lo podamos rellenar con un valor calculado, basandonos en los valores que tienen las demás filas en esa columna.\n",
        "\n",
        "A este proceso se le llama imputación. Siguiendo el ejemplo de nuestra base de datos, tomaremos la columna llamada \"TimeSecs\". "
      ]
    },
    {
      "cell_type": "code",
      "execution_count": 50,
      "metadata": {
        "colab": {
          "base_uri": "https://localhost:8080/"
        },
        "id": "J52SnIn5gvOL",
        "outputId": "90fc4a14-53cf-4075-f5bb-80c729ceaed6"
      },
      "outputs": [
        {
          "data": {
            "text/plain": [
              "Unnamed: 0         0\n",
              "country           63\n",
              "description        0\n",
              "designation    37465\n",
              "points             0\n",
              "price           8996\n",
              "province          63\n",
              "region_1       21247\n",
              "region_2       79460\n",
              "taster_name    26244\n",
              "dtype: int64"
            ]
          },
          "execution_count": 50,
          "metadata": {},
          "output_type": "execute_result"
        }
      ],
      "source": [
        "# Volvemos a imprimir los valores faltantes de las primeras 10 columnas\n",
        "valores_nulos[0:10]"
      ]
    },
    {
      "attachments": {},
      "cell_type": "markdown",
      "metadata": {
        "id": "mz7cRwLuhhIQ"
      },
      "source": [
        "<strike>Si revisamos la documentación de la base de datos en la página de Kaggle de donde la descargamos (https://www.kaggle.com/maxhorowitz/nflplaybyplay2009to2016/version/6) podemos ver que la columna que elegimos de \"TimeSecs\" tiene información acerca de el número de segundos que quedan en el juego cuando la jugada se realizó.\n",
        "\n",
        "Esto puede significar que los valores estan como nulos o vacios porque el encargado de rellenar este valor olvido hacerlo, en lugar de pensar que ese valor no existe. En este caso si tiene sentido que apliquemos imputación de datos para rellenar lo que nos falta.\n",
        "\n",
        "Revisando más la documentación nos encontramos con información de la columna \"PenalizedTeam\" en la cual también se tienen muchos valores nulos, pero en este caso la explicación es que aqui no siempre se tienen que rellenar los valores, ya que puede que no se realizara ninguna penalización en esa jugada. Aquí tiene más sentido dejar los valores nulos y las celdas vacias rellenarlas con NaN.<strike>\n",
        "\n",
        "\n",
        "\n",
        "\n",
        "\n",
        "\n",
        "\n"
      ]
    },
    {
      "attachments": {},
      "cell_type": "markdown",
      "metadata": {},
      "source": [
        "Esta informacion no aplica ya que la fuente de la data fue cambiada por vinos https://www.kaggle.com/datasets/zynicide/wine-reviews?resource=download pero aplica en que si algunos datos pudieron no haberse tomado por errores humanos.\n",
        "\n",
        "> **Nota:** Es muy importante leer bien la documentación que viene con la base de datos con la que estemos trabajando para darnos cuenta cuales son los valores que nosotros podemos modificar, y cuales estan asi por una razón."
      ]
    },
    {
      "cell_type": "markdown",
      "metadata": {
        "id": "AFWXlwanjUy8"
      },
      "source": [
        "## Paso 4: Eliminar los valores nulos.\n",
        "\n",
        "Es importante también establecer desde un inicio cuales son los datos que nos interesan. Antes de realizar una imputación (que puede resultar un trabajo pesado o que consuma mucho tiempo) revisa cuales son los objetivos que tienes en mente a completar cuando usas tu base de datos. \n",
        "\n",
        "Puede que las columnas que contienen la mayor cantidad de datos nulos no sean necesarias para seguir con tu investigación, o incluso puedes establecer que si el porcentaje de valores perdidos es mucho mayor a la cantidad de datos con los que puedes hacer imputación, hacer esto puede causar que tus datos esten sesgados, y generar un modelo que tenga malos resultados.\n",
        "\n",
        "En caso de que solo quieras eliminar las filas o columnas que tienen valores nulos, podemos realizar lo siguiente:"
      ]
    },
    {
      "cell_type": "code",
      "execution_count": 51,
      "metadata": {
        "colab": {
          "base_uri": "https://localhost:8080/",
          "height": 143
        },
        "id": "rUoWAWoPkY-G",
        "outputId": "a25afbda-8ac4-4df5-d487-735af441077d"
      },
      "outputs": [
        {
          "data": {
            "text/html": [
              "<div>\n",
              "<style scoped>\n",
              "    .dataframe tbody tr th:only-of-type {\n",
              "        vertical-align: middle;\n",
              "    }\n",
              "\n",
              "    .dataframe tbody tr th {\n",
              "        vertical-align: top;\n",
              "    }\n",
              "\n",
              "    .dataframe thead th {\n",
              "        text-align: right;\n",
              "    }\n",
              "</style>\n",
              "<table border=\"1\" class=\"dataframe\">\n",
              "  <thead>\n",
              "    <tr style=\"text-align: right;\">\n",
              "      <th></th>\n",
              "      <th>Unnamed: 0</th>\n",
              "      <th>country</th>\n",
              "      <th>description</th>\n",
              "      <th>designation</th>\n",
              "      <th>points</th>\n",
              "      <th>price</th>\n",
              "      <th>province</th>\n",
              "      <th>region_1</th>\n",
              "      <th>region_2</th>\n",
              "      <th>taster_name</th>\n",
              "      <th>taster_twitter_handle</th>\n",
              "      <th>title</th>\n",
              "      <th>variety</th>\n",
              "      <th>winery</th>\n",
              "    </tr>\n",
              "  </thead>\n",
              "  <tbody>\n",
              "    <tr>\n",
              "      <th>4</th>\n",
              "      <td>4</td>\n",
              "      <td>US</td>\n",
              "      <td>Much like the regular bottling from 2012, this...</td>\n",
              "      <td>Vintner's Reserve Wild Child Block</td>\n",
              "      <td>87</td>\n",
              "      <td>65.0</td>\n",
              "      <td>Oregon</td>\n",
              "      <td>Willamette Valley</td>\n",
              "      <td>Willamette Valley</td>\n",
              "      <td>Paul Gregutt</td>\n",
              "      <td>@paulgwine</td>\n",
              "      <td>Sweet Cheeks 2012 Vintner's Reserve Wild Child...</td>\n",
              "      <td>Pinot Noir</td>\n",
              "      <td>Sweet Cheeks</td>\n",
              "    </tr>\n",
              "    <tr>\n",
              "      <th>10</th>\n",
              "      <td>10</td>\n",
              "      <td>US</td>\n",
              "      <td>Soft, supple plum envelopes an oaky structure ...</td>\n",
              "      <td>Mountain Cuvée</td>\n",
              "      <td>87</td>\n",
              "      <td>19.0</td>\n",
              "      <td>California</td>\n",
              "      <td>Napa Valley</td>\n",
              "      <td>Napa</td>\n",
              "      <td>Virginie Boone</td>\n",
              "      <td>@vboone</td>\n",
              "      <td>Kirkland Signature 2011 Mountain Cuvée Caberne...</td>\n",
              "      <td>Cabernet Sauvignon</td>\n",
              "      <td>Kirkland Signature</td>\n",
              "    </tr>\n",
              "    <tr>\n",
              "      <th>23</th>\n",
              "      <td>23</td>\n",
              "      <td>US</td>\n",
              "      <td>This wine from the Geneseo district offers aro...</td>\n",
              "      <td>Signature Selection</td>\n",
              "      <td>87</td>\n",
              "      <td>22.0</td>\n",
              "      <td>California</td>\n",
              "      <td>Paso Robles</td>\n",
              "      <td>Central Coast</td>\n",
              "      <td>Matt Kettmann</td>\n",
              "      <td>@mattkettmann</td>\n",
              "      <td>Bianchi 2011 Signature Selection Merlot (Paso ...</td>\n",
              "      <td>Merlot</td>\n",
              "      <td>Bianchi</td>\n",
              "    </tr>\n",
              "    <tr>\n",
              "      <th>25</th>\n",
              "      <td>25</td>\n",
              "      <td>US</td>\n",
              "      <td>Oak and earth intermingle around robust aromas...</td>\n",
              "      <td>King Ridge Vineyard</td>\n",
              "      <td>87</td>\n",
              "      <td>69.0</td>\n",
              "      <td>California</td>\n",
              "      <td>Sonoma Coast</td>\n",
              "      <td>Sonoma</td>\n",
              "      <td>Virginie Boone</td>\n",
              "      <td>@vboone</td>\n",
              "      <td>Castello di Amorosa 2011 King Ridge Vineyard P...</td>\n",
              "      <td>Pinot Noir</td>\n",
              "      <td>Castello di Amorosa</td>\n",
              "    </tr>\n",
              "    <tr>\n",
              "      <th>35</th>\n",
              "      <td>35</td>\n",
              "      <td>US</td>\n",
              "      <td>As with many of the Erath 2010 vineyard design...</td>\n",
              "      <td>Hyland</td>\n",
              "      <td>86</td>\n",
              "      <td>50.0</td>\n",
              "      <td>Oregon</td>\n",
              "      <td>McMinnville</td>\n",
              "      <td>Willamette Valley</td>\n",
              "      <td>Paul Gregutt</td>\n",
              "      <td>@paulgwine</td>\n",
              "      <td>Erath 2010 Hyland Pinot Noir (McMinnville)</td>\n",
              "      <td>Pinot Noir</td>\n",
              "      <td>Erath</td>\n",
              "    </tr>\n",
              "    <tr>\n",
              "      <th>...</th>\n",
              "      <td>...</td>\n",
              "      <td>...</td>\n",
              "      <td>...</td>\n",
              "      <td>...</td>\n",
              "      <td>...</td>\n",
              "      <td>...</td>\n",
              "      <td>...</td>\n",
              "      <td>...</td>\n",
              "      <td>...</td>\n",
              "      <td>...</td>\n",
              "      <td>...</td>\n",
              "      <td>...</td>\n",
              "      <td>...</td>\n",
              "      <td>...</td>\n",
              "    </tr>\n",
              "    <tr>\n",
              "      <th>129919</th>\n",
              "      <td>129919</td>\n",
              "      <td>US</td>\n",
              "      <td>This ripe, rich, almost decadently thick wine ...</td>\n",
              "      <td>Reserve</td>\n",
              "      <td>91</td>\n",
              "      <td>105.0</td>\n",
              "      <td>Washington</td>\n",
              "      <td>Walla Walla Valley (WA)</td>\n",
              "      <td>Columbia Valley</td>\n",
              "      <td>Paul Gregutt</td>\n",
              "      <td>@paulgwine</td>\n",
              "      <td>Nicholas Cole Cellars 2004 Reserve Red (Walla ...</td>\n",
              "      <td>Red Blend</td>\n",
              "      <td>Nicholas Cole Cellars</td>\n",
              "    </tr>\n",
              "    <tr>\n",
              "      <th>129926</th>\n",
              "      <td>129926</td>\n",
              "      <td>US</td>\n",
              "      <td>This pure Syrah from Reininger's estate vineya...</td>\n",
              "      <td>Ash Hollow Vineyard</td>\n",
              "      <td>91</td>\n",
              "      <td>41.0</td>\n",
              "      <td>Washington</td>\n",
              "      <td>Walla Walla Valley (WA)</td>\n",
              "      <td>Columbia Valley</td>\n",
              "      <td>Paul Gregutt</td>\n",
              "      <td>@paulgwine</td>\n",
              "      <td>Reininger 2005 Ash Hollow Vineyard Syrah (Wall...</td>\n",
              "      <td>Syrah</td>\n",
              "      <td>Reininger</td>\n",
              "    </tr>\n",
              "    <tr>\n",
              "      <th>129945</th>\n",
              "      <td>129945</td>\n",
              "      <td>US</td>\n",
              "      <td>Hailing from one of the more popular vineyards...</td>\n",
              "      <td>Jurassic Park Vineyard Old Vines</td>\n",
              "      <td>90</td>\n",
              "      <td>20.0</td>\n",
              "      <td>California</td>\n",
              "      <td>Santa Ynez Valley</td>\n",
              "      <td>Central Coast</td>\n",
              "      <td>Matt Kettmann</td>\n",
              "      <td>@mattkettmann</td>\n",
              "      <td>Birichino 2013 Jurassic Park Vineyard Old Vine...</td>\n",
              "      <td>Chenin Blanc</td>\n",
              "      <td>Birichino</td>\n",
              "    </tr>\n",
              "    <tr>\n",
              "      <th>129949</th>\n",
              "      <td>129949</td>\n",
              "      <td>US</td>\n",
              "      <td>There's no bones about the use of oak in this ...</td>\n",
              "      <td>Barrel Fermented</td>\n",
              "      <td>90</td>\n",
              "      <td>35.0</td>\n",
              "      <td>California</td>\n",
              "      <td>Napa Valley</td>\n",
              "      <td>Napa</td>\n",
              "      <td>Virginie Boone</td>\n",
              "      <td>@vboone</td>\n",
              "      <td>Flora Springs 2013 Barrel Fermented Chardonnay...</td>\n",
              "      <td>Chardonnay</td>\n",
              "      <td>Flora Springs</td>\n",
              "    </tr>\n",
              "    <tr>\n",
              "      <th>129950</th>\n",
              "      <td>129950</td>\n",
              "      <td>US</td>\n",
              "      <td>This opens with herbaceous dollops of thyme an...</td>\n",
              "      <td>Blocks 7 &amp; 22</td>\n",
              "      <td>90</td>\n",
              "      <td>35.0</td>\n",
              "      <td>California</td>\n",
              "      <td>Napa Valley</td>\n",
              "      <td>Napa</td>\n",
              "      <td>Virginie Boone</td>\n",
              "      <td>@vboone</td>\n",
              "      <td>Hendry 2012 Blocks 7 &amp; 22 Zinfandel (Napa Valley)</td>\n",
              "      <td>Zinfandel</td>\n",
              "      <td>Hendry</td>\n",
              "    </tr>\n",
              "  </tbody>\n",
              "</table>\n",
              "<p>22387 rows × 14 columns</p>\n",
              "</div>"
            ],
            "text/plain": [
              "        Unnamed: 0 country                                        description  \\\n",
              "4                4      US  Much like the regular bottling from 2012, this...   \n",
              "10              10      US  Soft, supple plum envelopes an oaky structure ...   \n",
              "23              23      US  This wine from the Geneseo district offers aro...   \n",
              "25              25      US  Oak and earth intermingle around robust aromas...   \n",
              "35              35      US  As with many of the Erath 2010 vineyard design...   \n",
              "...            ...     ...                                                ...   \n",
              "129919      129919      US  This ripe, rich, almost decadently thick wine ...   \n",
              "129926      129926      US  This pure Syrah from Reininger's estate vineya...   \n",
              "129945      129945      US  Hailing from one of the more popular vineyards...   \n",
              "129949      129949      US  There's no bones about the use of oak in this ...   \n",
              "129950      129950      US  This opens with herbaceous dollops of thyme an...   \n",
              "\n",
              "                               designation  points  price    province  \\\n",
              "4       Vintner's Reserve Wild Child Block      87   65.0      Oregon   \n",
              "10                          Mountain Cuvée      87   19.0  California   \n",
              "23                     Signature Selection      87   22.0  California   \n",
              "25                     King Ridge Vineyard      87   69.0  California   \n",
              "35                                  Hyland      86   50.0      Oregon   \n",
              "...                                    ...     ...    ...         ...   \n",
              "129919                             Reserve      91  105.0  Washington   \n",
              "129926                 Ash Hollow Vineyard      91   41.0  Washington   \n",
              "129945    Jurassic Park Vineyard Old Vines      90   20.0  California   \n",
              "129949                    Barrel Fermented      90   35.0  California   \n",
              "129950                       Blocks 7 & 22      90   35.0  California   \n",
              "\n",
              "                       region_1           region_2     taster_name  \\\n",
              "4             Willamette Valley  Willamette Valley    Paul Gregutt   \n",
              "10                  Napa Valley               Napa  Virginie Boone   \n",
              "23                  Paso Robles      Central Coast   Matt Kettmann   \n",
              "25                 Sonoma Coast             Sonoma  Virginie Boone   \n",
              "35                  McMinnville  Willamette Valley    Paul Gregutt   \n",
              "...                         ...                ...             ...   \n",
              "129919  Walla Walla Valley (WA)    Columbia Valley    Paul Gregutt   \n",
              "129926  Walla Walla Valley (WA)    Columbia Valley    Paul Gregutt   \n",
              "129945        Santa Ynez Valley      Central Coast   Matt Kettmann   \n",
              "129949              Napa Valley               Napa  Virginie Boone   \n",
              "129950              Napa Valley               Napa  Virginie Boone   \n",
              "\n",
              "       taster_twitter_handle  \\\n",
              "4                @paulgwine    \n",
              "10                   @vboone   \n",
              "23             @mattkettmann   \n",
              "25                   @vboone   \n",
              "35               @paulgwine    \n",
              "...                      ...   \n",
              "129919           @paulgwine    \n",
              "129926           @paulgwine    \n",
              "129945         @mattkettmann   \n",
              "129949               @vboone   \n",
              "129950               @vboone   \n",
              "\n",
              "                                                    title             variety  \\\n",
              "4       Sweet Cheeks 2012 Vintner's Reserve Wild Child...          Pinot Noir   \n",
              "10      Kirkland Signature 2011 Mountain Cuvée Caberne...  Cabernet Sauvignon   \n",
              "23      Bianchi 2011 Signature Selection Merlot (Paso ...              Merlot   \n",
              "25      Castello di Amorosa 2011 King Ridge Vineyard P...          Pinot Noir   \n",
              "35             Erath 2010 Hyland Pinot Noir (McMinnville)          Pinot Noir   \n",
              "...                                                   ...                 ...   \n",
              "129919  Nicholas Cole Cellars 2004 Reserve Red (Walla ...           Red Blend   \n",
              "129926  Reininger 2005 Ash Hollow Vineyard Syrah (Wall...               Syrah   \n",
              "129945  Birichino 2013 Jurassic Park Vineyard Old Vine...        Chenin Blanc   \n",
              "129949  Flora Springs 2013 Barrel Fermented Chardonnay...          Chardonnay   \n",
              "129950  Hendry 2012 Blocks 7 & 22 Zinfandel (Napa Valley)           Zinfandel   \n",
              "\n",
              "                       winery  \n",
              "4                Sweet Cheeks  \n",
              "10         Kirkland Signature  \n",
              "23                    Bianchi  \n",
              "25        Castello di Amorosa  \n",
              "35                      Erath  \n",
              "...                       ...  \n",
              "129919  Nicholas Cole Cellars  \n",
              "129926              Reininger  \n",
              "129945              Birichino  \n",
              "129949          Flora Springs  \n",
              "129950                 Hendry  \n",
              "\n",
              "[22387 rows x 14 columns]"
            ]
          },
          "execution_count": 51,
          "metadata": {},
          "output_type": "execute_result"
        }
      ],
      "source": [
        "#Elimina todas las filas que contengan valores nulos\n",
        "datos_vinos.dropna()\n"
      ]
    },
    {
      "cell_type": "markdown",
      "metadata": {
        "id": "SgE0Nyoik-PY"
      },
      "source": [
        "Realizar el código de arriba nos genera una tabla vacia. Esto es porque cada fila dentro de nuestra base de datos tiene al menos una celda con valor nulo. Podemos intentar mejor eliminar las columnas que tengan al menos un valor nulo."
      ]
    },
    {
      "cell_type": "code",
      "execution_count": 52,
      "metadata": {
        "colab": {
          "base_uri": "https://localhost:8080/",
          "height": 356
        },
        "id": "Rc79WHOplY2u",
        "outputId": "1e2da0c4-999f-4d43-8083-62b417c8802f"
      },
      "outputs": [
        {
          "data": {
            "text/html": [
              "<div>\n",
              "<style scoped>\n",
              "    .dataframe tbody tr th:only-of-type {\n",
              "        vertical-align: middle;\n",
              "    }\n",
              "\n",
              "    .dataframe tbody tr th {\n",
              "        vertical-align: top;\n",
              "    }\n",
              "\n",
              "    .dataframe thead th {\n",
              "        text-align: right;\n",
              "    }\n",
              "</style>\n",
              "<table border=\"1\" class=\"dataframe\">\n",
              "  <thead>\n",
              "    <tr style=\"text-align: right;\">\n",
              "      <th></th>\n",
              "      <th>Unnamed: 0</th>\n",
              "      <th>description</th>\n",
              "      <th>points</th>\n",
              "      <th>title</th>\n",
              "      <th>winery</th>\n",
              "    </tr>\n",
              "  </thead>\n",
              "  <tbody>\n",
              "    <tr>\n",
              "      <th>0</th>\n",
              "      <td>0</td>\n",
              "      <td>Aromas include tropical fruit, broom, brimston...</td>\n",
              "      <td>87</td>\n",
              "      <td>Nicosia 2013 Vulkà Bianco  (Etna)</td>\n",
              "      <td>Nicosia</td>\n",
              "    </tr>\n",
              "    <tr>\n",
              "      <th>1</th>\n",
              "      <td>1</td>\n",
              "      <td>This is ripe and fruity, a wine that is smooth...</td>\n",
              "      <td>87</td>\n",
              "      <td>Quinta dos Avidagos 2011 Avidagos Red (Douro)</td>\n",
              "      <td>Quinta dos Avidagos</td>\n",
              "    </tr>\n",
              "    <tr>\n",
              "      <th>2</th>\n",
              "      <td>2</td>\n",
              "      <td>Tart and snappy, the flavors of lime flesh and...</td>\n",
              "      <td>87</td>\n",
              "      <td>Rainstorm 2013 Pinot Gris (Willamette Valley)</td>\n",
              "      <td>Rainstorm</td>\n",
              "    </tr>\n",
              "    <tr>\n",
              "      <th>3</th>\n",
              "      <td>3</td>\n",
              "      <td>Pineapple rind, lemon pith and orange blossom ...</td>\n",
              "      <td>87</td>\n",
              "      <td>St. Julian 2013 Reserve Late Harvest Riesling ...</td>\n",
              "      <td>St. Julian</td>\n",
              "    </tr>\n",
              "    <tr>\n",
              "      <th>4</th>\n",
              "      <td>4</td>\n",
              "      <td>Much like the regular bottling from 2012, this...</td>\n",
              "      <td>87</td>\n",
              "      <td>Sweet Cheeks 2012 Vintner's Reserve Wild Child...</td>\n",
              "      <td>Sweet Cheeks</td>\n",
              "    </tr>\n",
              "  </tbody>\n",
              "</table>\n",
              "</div>"
            ],
            "text/plain": [
              "   Unnamed: 0                                        description  points  \\\n",
              "0           0  Aromas include tropical fruit, broom, brimston...      87   \n",
              "1           1  This is ripe and fruity, a wine that is smooth...      87   \n",
              "2           2  Tart and snappy, the flavors of lime flesh and...      87   \n",
              "3           3  Pineapple rind, lemon pith and orange blossom ...      87   \n",
              "4           4  Much like the regular bottling from 2012, this...      87   \n",
              "\n",
              "                                               title               winery  \n",
              "0                  Nicosia 2013 Vulkà Bianco  (Etna)              Nicosia  \n",
              "1      Quinta dos Avidagos 2011 Avidagos Red (Douro)  Quinta dos Avidagos  \n",
              "2      Rainstorm 2013 Pinot Gris (Willamette Valley)            Rainstorm  \n",
              "3  St. Julian 2013 Reserve Late Harvest Riesling ...           St. Julian  \n",
              "4  Sweet Cheeks 2012 Vintner's Reserve Wild Child...         Sweet Cheeks  "
            ]
          },
          "execution_count": 52,
          "metadata": {},
          "output_type": "execute_result"
        }
      ],
      "source": [
        "# Elimina todas las columnas que tengan al menos un valor nulo\n",
        "columnas_Nan = datos_vinos.dropna(axis=1)\n",
        "columnas_Nan.head()"
      ]
    },
    {
      "cell_type": "markdown",
      "metadata": {
        "id": "OxzmA0IWl0c1"
      },
      "source": [
        "En esta nueva linea de código creamos una variable nueva para guardar nuestra base de datos sin datos nulos, y con esto podemos hacer una comparación de cuantas columnas perdimos."
      ]
    },
    {
      "cell_type": "code",
      "execution_count": 53,
      "metadata": {
        "colab": {
          "base_uri": "https://localhost:8080/"
        },
        "id": "gSLi54PamGSj",
        "outputId": "99071410-beb9-46ba-d5db-3602337e8edc"
      },
      "outputs": [
        {
          "name": "stdout",
          "output_type": "stream",
          "text": [
            "Numero de columnas en el dataset original: 14 \n",
            "\n",
            "Numero de columnas eliminadas: 5\n"
          ]
        }
      ],
      "source": [
        "#Revisamos cuantas columnas teniamos originalmente y cuantas eliminamos.\n",
        "print(\"Numero de columnas en el dataset original: %d \\n\" % datos_vinos.shape[1])\n",
        "print(\"Numero de columnas eliminadas: %d\" % columnas_Nan.shape[1])\n"
      ]
    },
    {
      "attachments": {},
      "cell_type": "markdown",
      "metadata": {
        "id": "BrOvSQLomx0M"
      },
      "source": [
        "Como podemos ver, perdimos bastante información al eliminar esas columnas. Se recomienda hacer este paso solo si se sabe que no se van a necesitar las columnas eliminadas. En caso de que solo quieras eliminar las columnas que no necesitas, y no todas las que tienen datos nulos, puedes realizar lo siguiente:\n",
        "\n",
        "(Para este ejemplo eliminaremos la columna designation, region_1, region_2 y taster_name)"
      ]
    },
    {
      "cell_type": "code",
      "execution_count": 54,
      "metadata": {
        "colab": {
          "base_uri": "https://localhost:8080/",
          "height": 560
        },
        "id": "_tPWuJuXnLwD",
        "outputId": "ff4e6cbd-3f08-4f1b-a59f-3c0d1033880f"
      },
      "outputs": [
        {
          "data": {
            "text/html": [
              "<div>\n",
              "<style scoped>\n",
              "    .dataframe tbody tr th:only-of-type {\n",
              "        vertical-align: middle;\n",
              "    }\n",
              "\n",
              "    .dataframe tbody tr th {\n",
              "        vertical-align: top;\n",
              "    }\n",
              "\n",
              "    .dataframe thead th {\n",
              "        text-align: right;\n",
              "    }\n",
              "</style>\n",
              "<table border=\"1\" class=\"dataframe\">\n",
              "  <thead>\n",
              "    <tr style=\"text-align: right;\">\n",
              "      <th></th>\n",
              "      <th>Unnamed: 0</th>\n",
              "      <th>country</th>\n",
              "      <th>description</th>\n",
              "      <th>points</th>\n",
              "      <th>price</th>\n",
              "      <th>province</th>\n",
              "      <th>taster_twitter_handle</th>\n",
              "      <th>title</th>\n",
              "      <th>variety</th>\n",
              "      <th>winery</th>\n",
              "    </tr>\n",
              "  </thead>\n",
              "  <tbody>\n",
              "    <tr>\n",
              "      <th>0</th>\n",
              "      <td>0</td>\n",
              "      <td>Italy</td>\n",
              "      <td>Aromas include tropical fruit, broom, brimston...</td>\n",
              "      <td>87</td>\n",
              "      <td>NaN</td>\n",
              "      <td>Sicily &amp; Sardinia</td>\n",
              "      <td>@kerinokeefe</td>\n",
              "      <td>Nicosia 2013 Vulkà Bianco  (Etna)</td>\n",
              "      <td>White Blend</td>\n",
              "      <td>Nicosia</td>\n",
              "    </tr>\n",
              "    <tr>\n",
              "      <th>1</th>\n",
              "      <td>1</td>\n",
              "      <td>Portugal</td>\n",
              "      <td>This is ripe and fruity, a wine that is smooth...</td>\n",
              "      <td>87</td>\n",
              "      <td>15.0</td>\n",
              "      <td>Douro</td>\n",
              "      <td>@vossroger</td>\n",
              "      <td>Quinta dos Avidagos 2011 Avidagos Red (Douro)</td>\n",
              "      <td>Portuguese Red</td>\n",
              "      <td>Quinta dos Avidagos</td>\n",
              "    </tr>\n",
              "    <tr>\n",
              "      <th>2</th>\n",
              "      <td>2</td>\n",
              "      <td>US</td>\n",
              "      <td>Tart and snappy, the flavors of lime flesh and...</td>\n",
              "      <td>87</td>\n",
              "      <td>14.0</td>\n",
              "      <td>Oregon</td>\n",
              "      <td>@paulgwine</td>\n",
              "      <td>Rainstorm 2013 Pinot Gris (Willamette Valley)</td>\n",
              "      <td>Pinot Gris</td>\n",
              "      <td>Rainstorm</td>\n",
              "    </tr>\n",
              "    <tr>\n",
              "      <th>3</th>\n",
              "      <td>3</td>\n",
              "      <td>US</td>\n",
              "      <td>Pineapple rind, lemon pith and orange blossom ...</td>\n",
              "      <td>87</td>\n",
              "      <td>13.0</td>\n",
              "      <td>Michigan</td>\n",
              "      <td>NaN</td>\n",
              "      <td>St. Julian 2013 Reserve Late Harvest Riesling ...</td>\n",
              "      <td>Riesling</td>\n",
              "      <td>St. Julian</td>\n",
              "    </tr>\n",
              "    <tr>\n",
              "      <th>4</th>\n",
              "      <td>4</td>\n",
              "      <td>US</td>\n",
              "      <td>Much like the regular bottling from 2012, this...</td>\n",
              "      <td>87</td>\n",
              "      <td>65.0</td>\n",
              "      <td>Oregon</td>\n",
              "      <td>@paulgwine</td>\n",
              "      <td>Sweet Cheeks 2012 Vintner's Reserve Wild Child...</td>\n",
              "      <td>Pinot Noir</td>\n",
              "      <td>Sweet Cheeks</td>\n",
              "    </tr>\n",
              "  </tbody>\n",
              "</table>\n",
              "</div>"
            ],
            "text/plain": [
              "   Unnamed: 0   country                                        description  \\\n",
              "0           0     Italy  Aromas include tropical fruit, broom, brimston...   \n",
              "1           1  Portugal  This is ripe and fruity, a wine that is smooth...   \n",
              "2           2        US  Tart and snappy, the flavors of lime flesh and...   \n",
              "3           3        US  Pineapple rind, lemon pith and orange blossom ...   \n",
              "4           4        US  Much like the regular bottling from 2012, this...   \n",
              "\n",
              "   points  price           province taster_twitter_handle  \\\n",
              "0      87    NaN  Sicily & Sardinia          @kerinokeefe   \n",
              "1      87   15.0              Douro            @vossroger   \n",
              "2      87   14.0             Oregon           @paulgwine    \n",
              "3      87   13.0           Michigan                   NaN   \n",
              "4      87   65.0             Oregon           @paulgwine    \n",
              "\n",
              "                                               title         variety  \\\n",
              "0                  Nicosia 2013 Vulkà Bianco  (Etna)     White Blend   \n",
              "1      Quinta dos Avidagos 2011 Avidagos Red (Douro)  Portuguese Red   \n",
              "2      Rainstorm 2013 Pinot Gris (Willamette Valley)      Pinot Gris   \n",
              "3  St. Julian 2013 Reserve Late Harvest Riesling ...        Riesling   \n",
              "4  Sweet Cheeks 2012 Vintner's Reserve Wild Child...      Pinot Noir   \n",
              "\n",
              "                winery  \n",
              "0              Nicosia  \n",
              "1  Quinta dos Avidagos  \n",
              "2            Rainstorm  \n",
              "3           St. Julian  \n",
              "4         Sweet Cheeks  "
            ]
          },
          "execution_count": 54,
          "metadata": {},
          "output_type": "execute_result"
        }
      ],
      "source": [
        "#Especificamos las columnas que queremos eliminar\n",
        "eliminar_columnas = datos_vinos.drop([\"designation\", \"region_1\", \"region_2\", \"taster_name\"], axis=1)\n",
        "eliminar_columnas.head()"
      ]
    },
    {
      "cell_type": "markdown",
      "metadata": {
        "id": "8wvpfmeNn_Mn"
      },
      "source": [
        "## Paso 5: Rellenar valores nulos.\n",
        "\n",
        "Ya sabemos como eliminar datos de nuestra base de datos, ahora vamos a practicar como rellenar valores nulos de manera automática. Para este ejemplo tomaremos solo una sub sección de nuestra base de datos para poder mostrar los resultados más claramente.\n"
      ]
    },
    {
      "cell_type": "code",
      "execution_count": 55,
      "metadata": {
        "colab": {
          "base_uri": "https://localhost:8080/",
          "height": 270
        },
        "id": "fOL5pZ-IofLi",
        "outputId": "e5b6097b-872c-4088-c7b5-d3c4dc7bedaf"
      },
      "outputs": [
        {
          "data": {
            "text/html": [
              "<div>\n",
              "<style scoped>\n",
              "    .dataframe tbody tr th:only-of-type {\n",
              "        vertical-align: middle;\n",
              "    }\n",
              "\n",
              "    .dataframe tbody tr th {\n",
              "        vertical-align: top;\n",
              "    }\n",
              "\n",
              "    .dataframe thead th {\n",
              "        text-align: right;\n",
              "    }\n",
              "</style>\n",
              "<table border=\"1\" class=\"dataframe\">\n",
              "  <thead>\n",
              "    <tr style=\"text-align: right;\">\n",
              "      <th></th>\n",
              "      <th>country</th>\n",
              "      <th>description</th>\n",
              "      <th>designation</th>\n",
              "      <th>points</th>\n",
              "      <th>price</th>\n",
              "    </tr>\n",
              "  </thead>\n",
              "  <tbody>\n",
              "    <tr>\n",
              "      <th>0</th>\n",
              "      <td>Italy</td>\n",
              "      <td>Aromas include tropical fruit, broom, brimston...</td>\n",
              "      <td>Vulkà Bianco</td>\n",
              "      <td>87</td>\n",
              "      <td>NaN</td>\n",
              "    </tr>\n",
              "    <tr>\n",
              "      <th>1</th>\n",
              "      <td>Portugal</td>\n",
              "      <td>This is ripe and fruity, a wine that is smooth...</td>\n",
              "      <td>Avidagos</td>\n",
              "      <td>87</td>\n",
              "      <td>15.0</td>\n",
              "    </tr>\n",
              "    <tr>\n",
              "      <th>2</th>\n",
              "      <td>US</td>\n",
              "      <td>Tart and snappy, the flavors of lime flesh and...</td>\n",
              "      <td>NaN</td>\n",
              "      <td>87</td>\n",
              "      <td>14.0</td>\n",
              "    </tr>\n",
              "    <tr>\n",
              "      <th>3</th>\n",
              "      <td>US</td>\n",
              "      <td>Pineapple rind, lemon pith and orange blossom ...</td>\n",
              "      <td>Reserve Late Harvest</td>\n",
              "      <td>87</td>\n",
              "      <td>13.0</td>\n",
              "    </tr>\n",
              "    <tr>\n",
              "      <th>4</th>\n",
              "      <td>US</td>\n",
              "      <td>Much like the regular bottling from 2012, this...</td>\n",
              "      <td>Vintner's Reserve Wild Child Block</td>\n",
              "      <td>87</td>\n",
              "      <td>65.0</td>\n",
              "    </tr>\n",
              "  </tbody>\n",
              "</table>\n",
              "</div>"
            ],
            "text/plain": [
              "    country                                        description  \\\n",
              "0     Italy  Aromas include tropical fruit, broom, brimston...   \n",
              "1  Portugal  This is ripe and fruity, a wine that is smooth...   \n",
              "2        US  Tart and snappy, the flavors of lime flesh and...   \n",
              "3        US  Pineapple rind, lemon pith and orange blossom ...   \n",
              "4        US  Much like the regular bottling from 2012, this...   \n",
              "\n",
              "                          designation  points  price  \n",
              "0                        Vulkà Bianco      87    NaN  \n",
              "1                            Avidagos      87   15.0  \n",
              "2                                 NaN      87   14.0  \n",
              "3                Reserve Late Harvest      87   13.0  \n",
              "4  Vintner's Reserve Wild Child Block      87   65.0  "
            ]
          },
          "execution_count": 55,
          "metadata": {},
          "output_type": "execute_result"
        }
      ],
      "source": [
        "#Generamos un subset de los datos\n",
        "subset_datos_vinos = datos_vinos.loc[:, 'country':'price'].head()\n",
        "subset_datos_vinos"
      ]
    },
    {
      "cell_type": "markdown",
      "metadata": {
        "id": "TgImFYheo3fs"
      },
      "source": [
        "La librería de pandas tiene una función que permite cambiar los valores nulos automáticamente por cualquier otro valor que elijas. Tenemos la opción de fillna(), con la cual los valores NaN se reemplazaran con cualquier valor que nosotros agreguemos entre los parentesis.\n",
        "\n"
      ]
    },
    {
      "cell_type": "code",
      "execution_count": 56,
      "metadata": {
        "colab": {
          "base_uri": "https://localhost:8080/",
          "height": 270
        },
        "id": "cQ-4U9Y1pgzr",
        "outputId": "406f0eba-4a02-4309-fb9d-74feeb43d1d4"
      },
      "outputs": [
        {
          "data": {
            "text/html": [
              "<div>\n",
              "<style scoped>\n",
              "    .dataframe tbody tr th:only-of-type {\n",
              "        vertical-align: middle;\n",
              "    }\n",
              "\n",
              "    .dataframe tbody tr th {\n",
              "        vertical-align: top;\n",
              "    }\n",
              "\n",
              "    .dataframe thead th {\n",
              "        text-align: right;\n",
              "    }\n",
              "</style>\n",
              "<table border=\"1\" class=\"dataframe\">\n",
              "  <thead>\n",
              "    <tr style=\"text-align: right;\">\n",
              "      <th></th>\n",
              "      <th>country</th>\n",
              "      <th>description</th>\n",
              "      <th>designation</th>\n",
              "      <th>points</th>\n",
              "      <th>price</th>\n",
              "    </tr>\n",
              "  </thead>\n",
              "  <tbody>\n",
              "    <tr>\n",
              "      <th>0</th>\n",
              "      <td>Italy</td>\n",
              "      <td>Aromas include tropical fruit, broom, brimston...</td>\n",
              "      <td>Vulkà Bianco</td>\n",
              "      <td>87</td>\n",
              "      <td>0.0</td>\n",
              "    </tr>\n",
              "    <tr>\n",
              "      <th>1</th>\n",
              "      <td>Portugal</td>\n",
              "      <td>This is ripe and fruity, a wine that is smooth...</td>\n",
              "      <td>Avidagos</td>\n",
              "      <td>87</td>\n",
              "      <td>15.0</td>\n",
              "    </tr>\n",
              "    <tr>\n",
              "      <th>2</th>\n",
              "      <td>US</td>\n",
              "      <td>Tart and snappy, the flavors of lime flesh and...</td>\n",
              "      <td>0</td>\n",
              "      <td>87</td>\n",
              "      <td>14.0</td>\n",
              "    </tr>\n",
              "    <tr>\n",
              "      <th>3</th>\n",
              "      <td>US</td>\n",
              "      <td>Pineapple rind, lemon pith and orange blossom ...</td>\n",
              "      <td>Reserve Late Harvest</td>\n",
              "      <td>87</td>\n",
              "      <td>13.0</td>\n",
              "    </tr>\n",
              "    <tr>\n",
              "      <th>4</th>\n",
              "      <td>US</td>\n",
              "      <td>Much like the regular bottling from 2012, this...</td>\n",
              "      <td>Vintner's Reserve Wild Child Block</td>\n",
              "      <td>87</td>\n",
              "      <td>65.0</td>\n",
              "    </tr>\n",
              "  </tbody>\n",
              "</table>\n",
              "</div>"
            ],
            "text/plain": [
              "    country                                        description  \\\n",
              "0     Italy  Aromas include tropical fruit, broom, brimston...   \n",
              "1  Portugal  This is ripe and fruity, a wine that is smooth...   \n",
              "2        US  Tart and snappy, the flavors of lime flesh and...   \n",
              "3        US  Pineapple rind, lemon pith and orange blossom ...   \n",
              "4        US  Much like the regular bottling from 2012, this...   \n",
              "\n",
              "                          designation  points  price  \n",
              "0                        Vulkà Bianco      87    0.0  \n",
              "1                            Avidagos      87   15.0  \n",
              "2                                   0      87   14.0  \n",
              "3                Reserve Late Harvest      87   13.0  \n",
              "4  Vintner's Reserve Wild Child Block      87   65.0  "
            ]
          },
          "execution_count": 56,
          "metadata": {},
          "output_type": "execute_result"
        }
      ],
      "source": [
        "from operator import sub\n",
        "#Reemplazar todos los valores NaN por 0.\n",
        "subset_datos_vinos.fillna(0)"
      ]
    },
    {
      "cell_type": "markdown",
      "metadata": {
        "id": "nWyTxsqdpqH4"
      },
      "source": [
        "Se tiene que tener precaución con este tipo de rellenado, ya que por ejemplo, en esta base de datos el valor 0 puede modificar el resultado de un modelo que se base en algun tipo de promedio de los datos se su columna. Otro ejemplo podría ser si estamos tratando con una columna que representa edades, pesos, estaturas. El cero es un valor que puede afectar nuestros resultados.\n",
        "\n",
        "En caso de que no se quiera rellenar solo con ceros, podemos intentar otra manera. Con esta siguiente linea de código vamos a reemplazar los valores nulos por cualquier valor que se encuentre directamente abajo de la columna con el valor nulo. Esto tiene más sentido si tenemos alguna base de datos que siga un orden lógico como ordenados de manera acendente/decendente."
      ]
    },
    {
      "cell_type": "code",
      "execution_count": 57,
      "metadata": {
        "colab": {
          "base_uri": "https://localhost:8080/",
          "height": 270
        },
        "id": "TP7SgO8Jq0az",
        "outputId": "775e862c-4fa0-42fb-c017-ea4495782b95"
      },
      "outputs": [
        {
          "data": {
            "text/html": [
              "<div>\n",
              "<style scoped>\n",
              "    .dataframe tbody tr th:only-of-type {\n",
              "        vertical-align: middle;\n",
              "    }\n",
              "\n",
              "    .dataframe tbody tr th {\n",
              "        vertical-align: top;\n",
              "    }\n",
              "\n",
              "    .dataframe thead th {\n",
              "        text-align: right;\n",
              "    }\n",
              "</style>\n",
              "<table border=\"1\" class=\"dataframe\">\n",
              "  <thead>\n",
              "    <tr style=\"text-align: right;\">\n",
              "      <th></th>\n",
              "      <th>country</th>\n",
              "      <th>description</th>\n",
              "      <th>designation</th>\n",
              "      <th>points</th>\n",
              "      <th>price</th>\n",
              "    </tr>\n",
              "  </thead>\n",
              "  <tbody>\n",
              "    <tr>\n",
              "      <th>0</th>\n",
              "      <td>Italy</td>\n",
              "      <td>Aromas include tropical fruit, broom, brimston...</td>\n",
              "      <td>Vulkà Bianco</td>\n",
              "      <td>87</td>\n",
              "      <td>15.0</td>\n",
              "    </tr>\n",
              "    <tr>\n",
              "      <th>1</th>\n",
              "      <td>Portugal</td>\n",
              "      <td>This is ripe and fruity, a wine that is smooth...</td>\n",
              "      <td>Avidagos</td>\n",
              "      <td>87</td>\n",
              "      <td>15.0</td>\n",
              "    </tr>\n",
              "    <tr>\n",
              "      <th>2</th>\n",
              "      <td>US</td>\n",
              "      <td>Tart and snappy, the flavors of lime flesh and...</td>\n",
              "      <td>Reserve Late Harvest</td>\n",
              "      <td>87</td>\n",
              "      <td>14.0</td>\n",
              "    </tr>\n",
              "    <tr>\n",
              "      <th>3</th>\n",
              "      <td>US</td>\n",
              "      <td>Pineapple rind, lemon pith and orange blossom ...</td>\n",
              "      <td>Reserve Late Harvest</td>\n",
              "      <td>87</td>\n",
              "      <td>13.0</td>\n",
              "    </tr>\n",
              "    <tr>\n",
              "      <th>4</th>\n",
              "      <td>US</td>\n",
              "      <td>Much like the regular bottling from 2012, this...</td>\n",
              "      <td>Vintner's Reserve Wild Child Block</td>\n",
              "      <td>87</td>\n",
              "      <td>65.0</td>\n",
              "    </tr>\n",
              "  </tbody>\n",
              "</table>\n",
              "</div>"
            ],
            "text/plain": [
              "    country                                        description  \\\n",
              "0     Italy  Aromas include tropical fruit, broom, brimston...   \n",
              "1  Portugal  This is ripe and fruity, a wine that is smooth...   \n",
              "2        US  Tart and snappy, the flavors of lime flesh and...   \n",
              "3        US  Pineapple rind, lemon pith and orange blossom ...   \n",
              "4        US  Much like the regular bottling from 2012, this...   \n",
              "\n",
              "                          designation  points  price  \n",
              "0                        Vulkà Bianco      87   15.0  \n",
              "1                            Avidagos      87   15.0  \n",
              "2                Reserve Late Harvest      87   14.0  \n",
              "3                Reserve Late Harvest      87   13.0  \n",
              "4  Vintner's Reserve Wild Child Block      87   65.0  "
            ]
          },
          "execution_count": 57,
          "metadata": {},
          "output_type": "execute_result"
        }
      ],
      "source": [
        "#Reemplazar todos los valores nulos por el valor que se encuentre directamente \n",
        "#debajo de nuestra celda nula.\n",
        "\n",
        "subset_datos_vinos.fillna(method='bfill', axis=0).fillna(0)"
      ]
    },
    {
      "cell_type": "markdown",
      "metadata": {
        "id": "6Gb6IAae--7D"
      },
      "source": [
        "## Ejercicio 1:\n",
        "\n"
      ]
    },
    {
      "cell_type": "markdown",
      "metadata": {
        "id": "4vrMHJ2dyoQT"
      },
      "source": [
        "# **2. Escalamiento y normalización**"
      ]
    },
    {
      "cell_type": "markdown",
      "metadata": {
        "id": "e-gDEtvUytrA"
      },
      "source": [
        "## Paso 1: Escalamiento vs. normalización.\n",
        "\n",
        "Cuando se trata de la exploración de datos y la construcción de modelos, hay varias formas de realizar ciertas tareas y, a menudo, todo se reduce a los objetivos y la experiencia o el estilo del científico de datos.\n",
        "\n",
        "La escala y la normalización a menudo se usan indistintamente. Y para hacer las cosas más interesantes, la escala y la normalización son muy similares. En ambos casos estamos transformando los valores de variables numericas para que los datos transformados puedan tener propiedades más especificas. \n",
        "\n",
        "La diferencia es que al escalar, nosotros estamos cambiado el rango de distribución de los datos. (El rango es la diferencia entre el elemento más pequeño y el más grande de una distribución) En cuanto a la normalización, estamos cambiando la forma de la distribución de los datos. Antes de entrar más a fondo con estos temas, primero tenemos que cargar las librerías que vamos a estar utilizando."
      ]
    },
    {
      "cell_type": "code",
      "execution_count": 58,
      "metadata": {
        "id": "ddFijpak02By"
      },
      "outputs": [],
      "source": [
        "\n",
        "#Librerías para modulos importantes\n",
        "import numpy as np\n",
        "import pandas as pd\n",
        "\n",
        "#Para la transformación de boxcox\n",
        "from scipy import stats\n",
        "\n",
        "#Para el escalamiento max-min\n",
        "from mlxtend.preprocessing import minmax_scaling\n",
        "\n",
        "#Para graficar\n",
        "import seaborn as sns\n",
        "import matplotlib.pyplot as plt\n",
        "\n",
        "#Seed para reproducibilidad\n",
        "np.random.seed(0)"
      ]
    },
    {
      "cell_type": "markdown",
      "metadata": {
        "id": "ZmrFzOyf2D0s"
      },
      "source": [
        "## Paso 2: Escalamiento\n",
        "\n",
        "Cuando hablamos de escalamiento, nos referimos a que tenemos que transformar nuestros datos para que puedan entrar en un rango especifico, como 0 a 100, o 0 a 1. Nosotros debemos buscar escalamiento cuando usamos metodos que se basan en medidas, como por ejemplo que tan alejados se encuentrarn puntos de datos como se hace en métodos como soporte de maquina vectorial o k vecinos mas cercanos. Con estos algoritmos el cambio de un \"1\" en cualquiera de sus valores numericos se le da la misma importancia.\n",
        "\n",
        "Por ejemplo, cuando tenemos una base de datos que maneja dos tipos de moneda, el dolar americano y el Yen. En este caso sabemos que un dolar esta rondando alrededor de los 100 Yen, y si nosotros no escalamos nuestros datos, métodos como los que mencionamos arriba van a considerar la diferencia de precio de 1 Yen tan importante como el de 1 dolar. \n",
        "\n",
        "Entonces, en general, es posible que necesitemos escalar datos para problemas de aprendizaje automático de modo que todas las variables tengan un rango de distribución bastante similar para evitar tales problemas. Cuando escalamos las variables de una base de datos, estamos preparando nuestra información para poder comparar variables de manera equitativa.\n",
        "\n",
        "\n",
        "Algunos tipos comunes de escalado:\n",
        "\n"
      ]
    },
    {
      "cell_type": "markdown",
      "metadata": {
        "id": "6_WueeyP2jVb"
      },
      "source": [
        "### **Escala de funciones simple:**\n",
        "$X_{new} = \\frac{X{old}}{X_{max}}$\n",
        "\n",
        "Este método simplemente divide cada valor máximo para esa característica. Los valores resultantes están entre el rango 0 y 1. El escalado de características simples es el método de escalado utilizado en los datos de imagen. Cuando escalamos imágenes dividiendo cada imagen por 255 (intensidad máxima de lo pixeles en la imagen).\n",
        "\n",
        "Definimos una función de escalado de características simples."
      ]
    },
    {
      "cell_type": "code",
      "execution_count": 59,
      "metadata": {
        "colab": {
          "base_uri": "https://localhost:8080/"
        },
        "id": "YZdgEO7kktxV",
        "outputId": "cee7f60e-4908-4181-ac0a-e2d89a05a194"
      },
      "outputs": [
        {
          "name": "stdout",
          "output_type": "stream",
          "text": [
            "Datos originales...\n",
            " valor minimo 1\n",
            " valor máximo 10\n",
            "\n",
            "Datos escalados...\n",
            " valor minimo escalado 0.1\n",
            " valor maximo escalado 1.0\n"
          ]
        }
      ],
      "source": [
        "#Traducción de https://ichi.pro/es/escalar-frente-a-normalizar-datos-101383047510660\n",
        "def escala_funcion_simple(arr):\n",
        "  \"\"\"Este método aplica para la escala de función simple\n",
        "  a la distribución de (arr).\n",
        "  \n",
        "  @param arr: Un vector o lista o serie de objetos\n",
        "  @return: Regresa el arr con sus características escaladas\n",
        "  \"\"\"\n",
        "  arr_max = max(arr)\n",
        "  new_arr = [i/arr_max for i in arr]\n",
        "\n",
        "  return new_arr\n",
        "\n",
        "arr = list(range(1,11))\n",
        "arr_scaled = escala_funcion_simple(arr)\n",
        "\n",
        "print(f'Datos originales...\\n valor minimo {min(arr)}\\n valor máximo {max(arr)}\\n')\n",
        "print(f'Datos escalados...\\n valor minimo escalado {min(arr_scaled)}\\n valor maximo escalado {max(arr_scaled)}')\n"
      ]
    },
    {
      "cell_type": "markdown",
      "metadata": {
        "id": "XvPt-i5KpfiK"
      },
      "source": [
        "El ejemplo anterior es bastante sencillo y podemos ver en los resultados que el rango anterior fue de 1 a 10, y el resultado del escalamiento fue que el rango cambio de 0.1 a 1.0.\n",
        "\n",
        "### **Escala minima-máxima:**\n",
        "\n",
        "$X_{new} = \\frac{X_{old} - X_{min}}{X_{max} - X_{min}}$\n",
        "\n",
        "Esta función es un poco más popular que el escalado de funciones simples. Este escalador toma en cuenta cada valor y resta el mínimo, luego divide por el rango (máximo-mínimo). Los valores resultantes oscilan entre 0 y 1."
      ]
    },
    {
      "cell_type": "code",
      "execution_count": 60,
      "metadata": {
        "colab": {
          "base_uri": "https://localhost:8080/"
        },
        "id": "U185NiwdyiKv",
        "outputId": "7a2ecc75-ed0e-468b-b25f-ec8905d1358c"
      },
      "outputs": [
        {
          "name": "stdout",
          "output_type": "stream",
          "text": [
            "Valores originales...\n",
            " minimo es 1\n",
            " maximo es 10\n",
            "\n",
            "Después de escalar...\n",
            " minimo escalado 0.0\n",
            " maximo escalado 1.0\n"
          ]
        }
      ],
      "source": [
        "def min_max_escala(arr):\n",
        "  \"\"\"Este método aplica el min-max escalado a una distribución (arr).\n",
        "\n",
        "  @param arr: Un vector o lista o serie de objetos\n",
        "  @return: Regresa el valor arr con todas las caracteristicas min max escaladas\n",
        "\n",
        "  \"\"\"\n",
        "  arr_max = max(arr)\n",
        "  arr_min = min(arr)\n",
        "  ranges = arr_max - arr_min\n",
        "\n",
        "  new_arr = [(i - arr_min)/ ranges for i in arr]\n",
        "  return new_arr\n",
        "\n",
        "arr = list(range(1,11))\n",
        "arr_scaled = min_max_escala(arr)\n",
        "\n",
        "print(f'Valores originales...\\n minimo es {min(arr)}\\n maximo es {max(arr)}\\n')\n",
        "print(f'Después de escalar...\\n minimo escalado {min(arr_scaled)}\\n maximo escalado {max(arr_scaled)}')\n"
      ]
    },
    {
      "cell_type": "markdown",
      "metadata": {
        "id": "11166Qr60edE"
      },
      "source": [
        "Ya que tenemos dos formas similares de escalar con funciones, tenemos también la opción de utilizar la librería de python para este tipo de tareas con los valores de una base de datos. En este ejemplo generaremos datos dummy para ejemplificar con gráficas."
      ]
    },
    {
      "cell_type": "code",
      "execution_count": 61,
      "metadata": {
        "colab": {
          "base_uri": "https://localhost:8080/",
          "height": 227
        },
        "id": "4DznbeZF03Lm",
        "outputId": "d4c320f6-09c7-4fdd-b777-b47f2203335a"
      },
      "outputs": [
        {
          "data": {
            "image/png": "[encoded data removed]",
            "text/plain": [
              "<Figure size 1500x300 with 2 Axes>"
            ]
          },
          "metadata": {},
          "output_type": "display_data"
        }
      ],
      "source": [
        "# Generamos 1,000 puntos de datos aleatorios con una distribución exponencial\n",
        "datos_originales = np.random.exponential(size = 1000)\n",
        "\n",
        "#Min-max escalamiento de datos entre 0 y 1\n",
        "datos_escalados = minmax_scaling(datos_originales, columns=[0])\n",
        "\n",
        "#Graficamos nuestros resultados para comparar\n",
        "fig, ax = plt.subplots(1, 2, figsize = (15, 3))\n",
        "sns.histplot(datos_originales, ax = ax[0], kde = True, legend = False)\n",
        "ax[0].set_title(\"Datos originales\")\n",
        "sns.histplot(datos_escalados, ax = ax[1], kde = True, legend = False)\n",
        "ax[1].set_title(\"Datos escalados\")\n",
        "plt.show()"
      ]
    },
    {
      "cell_type": "markdown",
      "metadata": {
        "id": "57oUpeeX2THq"
      },
      "source": [
        "Como podemos notar, la forma en que estan distribuidos los datos no cambian, pero ahora estan distribuidos de 0 a 1 y no de 0 a 6."
      ]
    },
    {
      "cell_type": "markdown",
      "metadata": {
        "id": "w5nPVKeI2n2T"
      },
      "source": [
        "## Paso 3: Normalización\n",
        "\n",
        "El escalamiento solo cambia el rango de nuestros datos. La normalización es una transformación un poco más radical. El punto principal de la normalización es cambiar nuestras observaciones para que puedan formar lo que se conoce como una distribución normal.\n",
        "\n",
        "> **Distribución normal:** También conocida como curva de campana, es una distribución estadística específica donde las observaciones aproximadamente iguales caen por encima y por debajo de la media, la media y la mediana son aproximadamente iguales y hay más observaciones más cercanas a la media. La distribución normal también se conoce como distribución gaussiana.\n",
        "\n",
        "En general, lo que se busca es normalizar los datos para ayudar a generar modelos con herramientas como aprendizaje de máquina o técnicas estadísticas que asumen que nuestros datos estan normalmente distribuidos. Alunos ejemplos incluyen los metodos de analisis de discriminación linear y cualquier método que incluya gaussiano en su nombre.\n",
        "\n",
        "Algunos tipos comunes de normalización:"
      ]
    },
    {
      "cell_type": "markdown",
      "metadata": {
        "id": "3kp6xGWZRKR7"
      },
      "source": [
        "### Puntaje Z o puntaje estandar\n",
        "\n",
        "En este método tenemos que para cada valor de la distribución restamos el promedio o la media, y luego lo dividimos por la desviación estandar. Esto da un rango de aproximadamente menos 3 a 3 (podría ser más o menos).\n",
        "\n",
        "$X_{new} = \\frac{X_{old}- mean}{STD(sigma)}$\n",
        "\n",
        "Podemos codificarlo de la siguiente manera:"
      ]
    },
    {
      "cell_type": "code",
      "execution_count": 62,
      "metadata": {
        "id": "Sc2-xEBARvl2"
      },
      "outputs": [],
      "source": [
        "def z_score(arr):\n",
        "  \"\"\"\n",
        "  Aplica la normalización de puntaje z a un vector o serie\n",
        "  \"\"\"\n",
        "  mean_ = np.mean(arr)\n",
        "  std_ = np.std(arr)\n",
        "\n",
        "  new_arr = [(i-mean_)/std_ for i in arr]\n",
        "  return new_arr\n"
      ]
    },
    {
      "cell_type": "markdown",
      "metadata": {
        "id": "JJs3GHA1TH7x"
      },
      "source": [
        "### Normalización Box-Cox\n",
        "\n",
        "Una transformación de Box-Cox es una transformación de una variable dependiente no normal en una forma normal. \n",
        "![1_PHtolzFQs_1cmPgcyGbaug.png](data:image/png;base64,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)\n",
        "\n",
        "\n",
        " Para este método existe una librería de python que podemos utiliazar para codificar."
      ]
    },
    {
      "cell_type": "code",
      "execution_count": 63,
      "metadata": {
        "colab": {
          "base_uri": "https://localhost:8080/",
          "height": 227
        },
        "id": "UWsVuw_EVCJz",
        "outputId": "8175038a-c205-407c-c269-e5a299ed1c36"
      },
      "outputs": [
        {
          "data": {
            "image/png": "[encoded data removed]",
            "text/plain": [
              "<Figure size 1500x300 with 2 Axes>"
            ]
          },
          "metadata": {},
          "output_type": "display_data"
        }
      ],
      "source": [
        "# Normalizamos los datos con boxcox\n",
        "normalized_data = stats.boxcox(datos_originales)\n",
        "\n",
        "# Graficamos ambos para comparar\n",
        "fig, ax=plt.subplots(1, 2, figsize=(15, 3))\n",
        "sns.histplot(datos_originales, ax=ax[0], kde=True, legend=False)\n",
        "ax[0].set_title(\"Datos originales\")\n",
        "sns.histplot(normalized_data[0], ax=ax[1], kde=True, legend=False)\n",
        "ax[1].set_title(\"Datos normalizados\")\n",
        "plt.show()"
      ]
    },
    {
      "cell_type": "markdown",
      "metadata": {
        "id": "Y5-7GlYBZeYq"
      },
      "source": [
        "## Paso 1: Cargar librerías\n",
        "\n",
        "Lo primero que tenemos que hacer es cargar todas las librerías que necesitamos. En este ejemplo vamos a utilizar una base de datos que contiene información sobre deslaves que pasaron entre el año 2007 y 2016.\n",
        "\n",
        "Al igual que en la primer fase de este notebook, tenemos que conseguir la base de datos del siguiente [link](https://www.kaggle.com/nasa/landslide-events) y agregarlo a nuestra carpeta de google drive que tenemos cargada en nuestro colab.\n",
        "\n"
      ]
    },
    {
      "cell_type": "code",
      "execution_count": 64,
      "metadata": {
        "id": "YVksBEbyamlY"
      },
      "outputs": [
        {
          "ename": "FileNotFoundError",
          "evalue": "[Errno 2] No such file or directory: '/content/drive/MyDrive/Datasets/catalog.csv'",
          "output_type": "error",
          "traceback": [
            "\u001b[1;31m---------------------------------------------------------------------------\u001b[0m",
            "\u001b[1;31mFileNotFoundError\u001b[0m                         Traceback (most recent call last)",
            "\u001b[1;32m~\\AppData\\Local\\Temp\\ipykernel_42556\\2166797344.py\u001b[0m in \u001b[0;36m<module>\u001b[1;34m\u001b[0m\n\u001b[0;32m      6\u001b[0m \u001b[1;33m\u001b[0m\u001b[0m\n\u001b[0;32m      7\u001b[0m \u001b[1;31m#Cargar la base de datos\u001b[0m\u001b[1;33m\u001b[0m\u001b[1;33m\u001b[0m\u001b[0m\n\u001b[1;32m----> 8\u001b[1;33m \u001b[0mlandslides\u001b[0m \u001b[1;33m=\u001b[0m \u001b[0mpd\u001b[0m\u001b[1;33m.\u001b[0m\u001b[0mread_csv\u001b[0m\u001b[1;33m(\u001b[0m\u001b[1;34m\"/content/drive/MyDrive/Datasets/catalog.csv\"\u001b[0m\u001b[1;33m)\u001b[0m\u001b[1;33m\u001b[0m\u001b[1;33m\u001b[0m\u001b[0m\n\u001b[0m\u001b[0;32m      9\u001b[0m \u001b[1;33m\u001b[0m\u001b[0m\n\u001b[0;32m     10\u001b[0m \u001b[1;31m#Random seed\u001b[0m\u001b[1;33m\u001b[0m\u001b[1;33m\u001b[0m\u001b[0m\n",
            "\u001b[1;32mc:\\Users\\martin_navarrete\\Anaconda3\\lib\\site-packages\\pandas\\util\\_decorators.py\u001b[0m in \u001b[0;36mwrapper\u001b[1;34m(*args, **kwargs)\u001b[0m\n\u001b[0;32m    309\u001b[0m                     \u001b[0mstacklevel\u001b[0m\u001b[1;33m=\u001b[0m\u001b[0mstacklevel\u001b[0m\u001b[1;33m,\u001b[0m\u001b[1;33m\u001b[0m\u001b[1;33m\u001b[0m\u001b[0m\n\u001b[0;32m    310\u001b[0m                 )\n\u001b[1;32m--> 311\u001b[1;33m             \u001b[1;32mreturn\u001b[0m \u001b[0mfunc\u001b[0m\u001b[1;33m(\u001b[0m\u001b[1;33m*\u001b[0m\u001b[0margs\u001b[0m\u001b[1;33m,\u001b[0m \u001b[1;33m**\u001b[0m\u001b[0mkwargs\u001b[0m\u001b[1;33m)\u001b[0m\u001b[1;33m\u001b[0m\u001b[1;33m\u001b[0m\u001b[0m\n\u001b[0m\u001b[0;32m    312\u001b[0m \u001b[1;33m\u001b[0m\u001b[0m\n\u001b[0;32m    313\u001b[0m         \u001b[1;32mreturn\u001b[0m \u001b[0mwrapper\u001b[0m\u001b[1;33m\u001b[0m\u001b[1;33m\u001b[0m\u001b[0m\n",
            "\u001b[1;32mc:\\Users\\martin_navarrete\\Anaconda3\\lib\\site-packages\\pandas\\io\\parsers\\readers.py\u001b[0m in \u001b[0;36mread_csv\u001b[1;34m(filepath_or_buffer, sep, delimiter, header, names, index_col, usecols, squeeze, prefix, mangle_dupe_cols, dtype, engine, converters, true_values, false_values, skipinitialspace, skiprows, skipfooter, nrows, na_values, keep_default_na, na_filter, verbose, skip_blank_lines, parse_dates, infer_datetime_format, keep_date_col, date_parser, dayfirst, cache_dates, iterator, chunksize, compression, thousands, decimal, lineterminator, quotechar, quoting, doublequote, escapechar, comment, encoding, encoding_errors, dialect, error_bad_lines, warn_bad_lines, on_bad_lines, delim_whitespace, low_memory, memory_map, float_precision, storage_options)\u001b[0m\n\u001b[0;32m    676\u001b[0m     \u001b[0mkwds\u001b[0m\u001b[1;33m.\u001b[0m\u001b[0mupdate\u001b[0m\u001b[1;33m(\u001b[0m\u001b[0mkwds_defaults\u001b[0m\u001b[1;33m)\u001b[0m\u001b[1;33m\u001b[0m\u001b[1;33m\u001b[0m\u001b[0m\n\u001b[0;32m    677\u001b[0m \u001b[1;33m\u001b[0m\u001b[0m\n\u001b[1;32m--> 678\u001b[1;33m     \u001b[1;32mreturn\u001b[0m \u001b[0m_read\u001b[0m\u001b[1;33m(\u001b[0m\u001b[0mfilepath_or_buffer\u001b[0m\u001b[1;33m,\u001b[0m \u001b[0mkwds\u001b[0m\u001b[1;33m)\u001b[0m\u001b[1;33m\u001b[0m\u001b[1;33m\u001b[0m\u001b[0m\n\u001b[0m\u001b[0;32m    679\u001b[0m \u001b[1;33m\u001b[0m\u001b[0m\n\u001b[0;32m    680\u001b[0m \u001b[1;33m\u001b[0m\u001b[0m\n",
            "\u001b[1;32mc:\\Users\\martin_navarrete\\Anaconda3\\lib\\site-packages\\pandas\\io\\parsers\\readers.py\u001b[0m in \u001b[0;36m_read\u001b[1;34m(filepath_or_buffer, kwds)\u001b[0m\n\u001b[0;32m    573\u001b[0m \u001b[1;33m\u001b[0m\u001b[0m\n\u001b[0;32m    574\u001b[0m     \u001b[1;31m# Create the parser.\u001b[0m\u001b[1;33m\u001b[0m\u001b[1;33m\u001b[0m\u001b[0m\n\u001b[1;32m--> 575\u001b[1;33m     \u001b[0mparser\u001b[0m \u001b[1;33m=\u001b[0m \u001b[0mTextFileReader\u001b[0m\u001b[1;33m(\u001b[0m\u001b[0mfilepath_or_buffer\u001b[0m\u001b[1;33m,\u001b[0m \u001b[1;33m**\u001b[0m\u001b[0mkwds\u001b[0m\u001b[1;33m)\u001b[0m\u001b[1;33m\u001b[0m\u001b[1;33m\u001b[0m\u001b[0m\n\u001b[0m\u001b[0;32m    576\u001b[0m \u001b[1;33m\u001b[0m\u001b[0m\n\u001b[0;32m    577\u001b[0m     \u001b[1;32mif\u001b[0m \u001b[0mchunksize\u001b[0m \u001b[1;32mor\u001b[0m \u001b[0miterator\u001b[0m\u001b[1;33m:\u001b[0m\u001b[1;33m\u001b[0m\u001b[1;33m\u001b[0m\u001b[0m\n",
            "\u001b[1;32mc:\\Users\\martin_navarrete\\Anaconda3\\lib\\site-packages\\pandas\\io\\parsers\\readers.py\u001b[0m in \u001b[0;36m__init__\u001b[1;34m(self, f, engine, **kwds)\u001b[0m\n\u001b[0;32m    930\u001b[0m \u001b[1;33m\u001b[0m\u001b[0m\n\u001b[0;32m    931\u001b[0m         \u001b[0mself\u001b[0m\u001b[1;33m.\u001b[0m\u001b[0mhandles\u001b[0m\u001b[1;33m:\u001b[0m \u001b[0mIOHandles\u001b[0m \u001b[1;33m|\u001b[0m \u001b[1;32mNone\u001b[0m \u001b[1;33m=\u001b[0m \u001b[1;32mNone\u001b[0m\u001b[1;33m\u001b[0m\u001b[1;33m\u001b[0m\u001b[0m\n\u001b[1;32m--> 932\u001b[1;33m         \u001b[0mself\u001b[0m\u001b[1;33m.\u001b[0m\u001b[0m_engine\u001b[0m \u001b[1;33m=\u001b[0m \u001b[0mself\u001b[0m\u001b[1;33m.\u001b[0m\u001b[0m_make_engine\u001b[0m\u001b[1;33m(\u001b[0m\u001b[0mf\u001b[0m\u001b[1;33m,\u001b[0m \u001b[0mself\u001b[0m\u001b[1;33m.\u001b[0m\u001b[0mengine\u001b[0m\u001b[1;33m)\u001b[0m\u001b[1;33m\u001b[0m\u001b[1;33m\u001b[0m\u001b[0m\n\u001b[0m\u001b[0;32m    933\u001b[0m \u001b[1;33m\u001b[0m\u001b[0m\n\u001b[0;32m    934\u001b[0m     \u001b[1;32mdef\u001b[0m \u001b[0mclose\u001b[0m\u001b[1;33m(\u001b[0m\u001b[0mself\u001b[0m\u001b[1;33m)\u001b[0m\u001b[1;33m:\u001b[0m\u001b[1;33m\u001b[0m\u001b[1;33m\u001b[0m\u001b[0m\n",
            "\u001b[1;32mc:\\Users\\martin_navarrete\\Anaconda3\\lib\\site-packages\\pandas\\io\\parsers\\readers.py\u001b[0m in \u001b[0;36m_make_engine\u001b[1;34m(self, f, engine)\u001b[0m\n\u001b[0;32m   1214\u001b[0m             \u001b[1;31m# \"Union[str, PathLike[str], ReadCsvBuffer[bytes], ReadCsvBuffer[str]]\"\u001b[0m\u001b[1;33m\u001b[0m\u001b[1;33m\u001b[0m\u001b[0m\n\u001b[0;32m   1215\u001b[0m             \u001b[1;31m# , \"str\", \"bool\", \"Any\", \"Any\", \"Any\", \"Any\", \"Any\"\u001b[0m\u001b[1;33m\u001b[0m\u001b[1;33m\u001b[0m\u001b[0m\n\u001b[1;32m-> 1216\u001b[1;33m             self.handles = get_handle(  # type: ignore[call-overload]\n\u001b[0m\u001b[0;32m   1217\u001b[0m                 \u001b[0mf\u001b[0m\u001b[1;33m,\u001b[0m\u001b[1;33m\u001b[0m\u001b[1;33m\u001b[0m\u001b[0m\n\u001b[0;32m   1218\u001b[0m                 \u001b[0mmode\u001b[0m\u001b[1;33m,\u001b[0m\u001b[1;33m\u001b[0m\u001b[1;33m\u001b[0m\u001b[0m\n",
            "\u001b[1;32mc:\\Users\\martin_navarrete\\Anaconda3\\lib\\site-packages\\pandas\\io\\common.py\u001b[0m in \u001b[0;36mget_handle\u001b[1;34m(path_or_buf, mode, encoding, compression, memory_map, is_text, errors, storage_options)\u001b[0m\n\u001b[0;32m    784\u001b[0m         \u001b[1;32mif\u001b[0m \u001b[0mioargs\u001b[0m\u001b[1;33m.\u001b[0m\u001b[0mencoding\u001b[0m \u001b[1;32mand\u001b[0m \u001b[1;34m\"b\"\u001b[0m \u001b[1;32mnot\u001b[0m \u001b[1;32min\u001b[0m \u001b[0mioargs\u001b[0m\u001b[1;33m.\u001b[0m\u001b[0mmode\u001b[0m\u001b[1;33m:\u001b[0m\u001b[1;33m\u001b[0m\u001b[1;33m\u001b[0m\u001b[0m\n\u001b[0;32m    785\u001b[0m             \u001b[1;31m# Encoding\u001b[0m\u001b[1;33m\u001b[0m\u001b[1;33m\u001b[0m\u001b[0m\n\u001b[1;32m--> 786\u001b[1;33m             handle = open(\n\u001b[0m\u001b[0;32m    787\u001b[0m                 \u001b[0mhandle\u001b[0m\u001b[1;33m,\u001b[0m\u001b[1;33m\u001b[0m\u001b[1;33m\u001b[0m\u001b[0m\n\u001b[0;32m    788\u001b[0m                 \u001b[0mioargs\u001b[0m\u001b[1;33m.\u001b[0m\u001b[0mmode\u001b[0m\u001b[1;33m,\u001b[0m\u001b[1;33m\u001b[0m\u001b[1;33m\u001b[0m\u001b[0m\n",
            "\u001b[1;31mFileNotFoundError\u001b[0m: [Errno 2] No such file or directory: '/content/drive/MyDrive/Datasets/catalog.csv'"
          ]
        }
      ],
      "source": [
        "#Modulos que vamos a utilizar\n",
        "import pandas as pd\n",
        "import numpy as np\n",
        "import seaborn as sns\n",
        "import datetime\n",
        "\n",
        "#Cargar la base de datos\n",
        "landslides = pd.read_csv(\"/content/drive/MyDrive/Datasets/catalog.csv\")\n",
        "\n",
        "#Random seed\n",
        "np.random.seed(0)"
      ]
    },
    {
      "cell_type": "markdown",
      "metadata": {
        "id": "SfEtKmHQbPuW"
      },
      "source": [
        "Todas las librerías que cargamos ya estamos familiarizados con lo que hacen. En el caso de la librería de datetime, depende de la base de datos que tengas es la aplicación que vas a darle. En este caso veremos un ejemplo en especifico, pero si quieres saber más sobre las aplicaciones de esta librería, puedes ver este [link](https://www.w3schools.com/python/python_datetime.asp).\n",
        "\n"
      ]
    },
    {
      "cell_type": "markdown",
      "metadata": {
        "id": "IsGkh7BXipd0"
      },
      "source": [
        "## Paso 2: Revisar el tipo de datos de columna fecha\n",
        "\n",
        "Iniciamos con la revisión de los datos con la función head() que vimos anteriormente."
      ]
    },
    {
      "cell_type": "code",
      "execution_count": null,
      "metadata": {
        "colab": {
          "base_uri": "https://localhost:8080/",
          "height": 375
        },
        "id": "FdHoI5HejAQB",
        "outputId": "d49d57ae-c494-451c-9871-37f40c5797a8"
      },
      "outputs": [
        {
          "data": {
            "text/html": [
              "\n",
              "  <div id=\"df-9393a8cd-6987-4856-8538-517efd25c598\">\n",
              "    <div class=\"colab-df-container\">\n",
              "      <div>\n",
              "<style scoped>\n",
              "    .dataframe tbody tr th:only-of-type {\n",
              "        vertical-align: middle;\n",
              "    }\n",
              "\n",
              "    .dataframe tbody tr th {\n",
              "        vertical-align: top;\n",
              "    }\n",
              "\n",
              "    .dataframe thead th {\n",
              "        text-align: right;\n",
              "    }\n",
              "</style>\n",
              "<table border=\"1\" class=\"dataframe\">\n",
              "  <thead>\n",
              "    <tr style=\"text-align: right;\">\n",
              "      <th></th>\n",
              "      <th>id</th>\n",
              "      <th>date</th>\n",
              "      <th>time</th>\n",
              "      <th>continent_code</th>\n",
              "      <th>country_name</th>\n",
              "      <th>country_code</th>\n",
              "      <th>state/province</th>\n",
              "      <th>population</th>\n",
              "      <th>city/town</th>\n",
              "      <th>distance</th>\n",
              "      <th>location_description</th>\n",
              "      <th>latitude</th>\n",
              "      <th>longitude</th>\n",
              "      <th>geolocation</th>\n",
              "      <th>hazard_type</th>\n",
              "      <th>landslide_type</th>\n",
              "      <th>landslide_size</th>\n",
              "      <th>trigger</th>\n",
              "      <th>storm_name</th>\n",
              "      <th>injuries</th>\n",
              "      <th>fatalities</th>\n",
              "      <th>source_name</th>\n",
              "      <th>source_link</th>\n",
              "    </tr>\n",
              "  </thead>\n",
              "  <tbody>\n",
              "    <tr>\n",
              "      <th>0</th>\n",
              "      <td>34</td>\n",
              "      <td>3/2/07</td>\n",
              "      <td>Night</td>\n",
              "      <td>NaN</td>\n",
              "      <td>United States</td>\n",
              "      <td>US</td>\n",
              "      <td>Virginia</td>\n",
              "      <td>16000</td>\n",
              "      <td>Cherry Hill</td>\n",
              "      <td>3.40765</td>\n",
              "      <td>Unknown</td>\n",
              "      <td>38.6009</td>\n",
              "      <td>-77.2682</td>\n",
              "      <td>(38.600900000000003, -77.268199999999993)</td>\n",
              "      <td>Landslide</td>\n",
              "      <td>Landslide</td>\n",
              "      <td>Small</td>\n",
              "      <td>Rain</td>\n",
              "      <td>NaN</td>\n",
              "      <td>NaN</td>\n",
              "      <td>NaN</td>\n",
              "      <td>NBC 4 news</td>\n",
              "      <td>http://www.nbc4.com/news/11186871/detail.html</td>\n",
              "    </tr>\n",
              "    <tr>\n",
              "      <th>1</th>\n",
              "      <td>42</td>\n",
              "      <td>3/22/07</td>\n",
              "      <td>NaN</td>\n",
              "      <td>NaN</td>\n",
              "      <td>United States</td>\n",
              "      <td>US</td>\n",
              "      <td>Ohio</td>\n",
              "      <td>17288</td>\n",
              "      <td>New Philadelphia</td>\n",
              "      <td>3.33522</td>\n",
              "      <td>NaN</td>\n",
              "      <td>40.5175</td>\n",
              "      <td>-81.4305</td>\n",
              "      <td>(40.517499999999998, -81.430499999999995)</td>\n",
              "      <td>Landslide</td>\n",
              "      <td>Landslide</td>\n",
              "      <td>Small</td>\n",
              "      <td>Rain</td>\n",
              "      <td>NaN</td>\n",
              "      <td>NaN</td>\n",
              "      <td>NaN</td>\n",
              "      <td>Canton Rep.com</td>\n",
              "      <td>http://www.cantonrep.com/index.php?ID=345054&amp;C...</td>\n",
              "    </tr>\n",
              "    <tr>\n",
              "      <th>2</th>\n",
              "      <td>56</td>\n",
              "      <td>4/6/07</td>\n",
              "      <td>NaN</td>\n",
              "      <td>NaN</td>\n",
              "      <td>United States</td>\n",
              "      <td>US</td>\n",
              "      <td>Pennsylvania</td>\n",
              "      <td>15930</td>\n",
              "      <td>Wilkinsburg</td>\n",
              "      <td>2.91977</td>\n",
              "      <td>Urban area</td>\n",
              "      <td>40.4377</td>\n",
              "      <td>-79.9160</td>\n",
              "      <td>(40.4377, -79.915999999999997)</td>\n",
              "      <td>Landslide</td>\n",
              "      <td>Landslide</td>\n",
              "      <td>Small</td>\n",
              "      <td>Rain</td>\n",
              "      <td>NaN</td>\n",
              "      <td>NaN</td>\n",
              "      <td>NaN</td>\n",
              "      <td>The Pittsburgh Channel.com</td>\n",
              "      <td>https://web.archive.org/web/20080423132842/htt...</td>\n",
              "    </tr>\n",
              "    <tr>\n",
              "      <th>3</th>\n",
              "      <td>59</td>\n",
              "      <td>4/14/07</td>\n",
              "      <td>NaN</td>\n",
              "      <td>NaN</td>\n",
              "      <td>Canada</td>\n",
              "      <td>CA</td>\n",
              "      <td>Quebec</td>\n",
              "      <td>42786</td>\n",
              "      <td>Châteauguay</td>\n",
              "      <td>2.98682</td>\n",
              "      <td>Above river</td>\n",
              "      <td>45.3226</td>\n",
              "      <td>-73.7771</td>\n",
              "      <td>(45.322600000000001, -73.777100000000004)</td>\n",
              "      <td>Landslide</td>\n",
              "      <td>Riverbank collapse</td>\n",
              "      <td>Small</td>\n",
              "      <td>Rain</td>\n",
              "      <td>NaN</td>\n",
              "      <td>NaN</td>\n",
              "      <td>NaN</td>\n",
              "      <td>Le Soleil</td>\n",
              "      <td>http://www.hebdos.net/lsc/edition162007/articl...</td>\n",
              "    </tr>\n",
              "    <tr>\n",
              "      <th>4</th>\n",
              "      <td>61</td>\n",
              "      <td>4/15/07</td>\n",
              "      <td>NaN</td>\n",
              "      <td>NaN</td>\n",
              "      <td>United States</td>\n",
              "      <td>US</td>\n",
              "      <td>Kentucky</td>\n",
              "      <td>6903</td>\n",
              "      <td>Pikeville</td>\n",
              "      <td>5.66542</td>\n",
              "      <td>Below road</td>\n",
              "      <td>37.4325</td>\n",
              "      <td>-82.4931</td>\n",
              "      <td>(37.432499999999997, -82.493099999999998)</td>\n",
              "      <td>Landslide</td>\n",
              "      <td>Landslide</td>\n",
              "      <td>Small</td>\n",
              "      <td>Downpour</td>\n",
              "      <td>NaN</td>\n",
              "      <td>NaN</td>\n",
              "      <td>0.0</td>\n",
              "      <td>Matthew Crawford (KGS)</td>\n",
              "      <td>NaN</td>\n",
              "    </tr>\n",
              "  </tbody>\n",
              "</table>\n",
              "</div>\n",
              "      <button class=\"colab-df-convert\" onclick=\"convertToInteractive('df-9393a8cd-6987-4856-8538-517efd25c598')\"\n",
              "              title=\"Convert this dataframe to an interactive table.\"\n",
              "              style=\"display:none;\">\n",
              "        \n",
              "  <svg xmlns=\"http://www.w3.org/2000/svg\" height=\"24px\"viewBox=\"0 0 24 24\"\n",
              "       width=\"24px\">\n",
              "    <path d=\"M0 0h24v24H0V0z\" fill=\"none\"/>\n",
              "    <path d=\"M18.56 5.44l.94 2.06.94-2.06 2.06-.94-2.06-.94-.94-2.06-.94 2.06-2.06.94zm-11 1L8.5 8.5l.94-2.06 2.06-.94-2.06-.94L8.5 2.5l-.94 2.06-2.06.94zm10 10l.94 2.06.94-2.06 2.06-.94-2.06-.94-.94-2.06-.94 2.06-2.06.94z\"/><path d=\"M17.41 7.96l-1.37-1.37c-.4-.4-.92-.59-1.43-.59-.52 0-1.04.2-1.43.59L10.3 9.45l-7.72 7.72c-.78.78-.78 2.05 0 2.83L4 21.41c.39.39.9.59 1.41.59.51 0 1.02-.2 1.41-.59l7.78-7.78 2.81-2.81c.8-.78.8-2.07 0-2.86zM5.41 20L4 18.59l7.72-7.72 1.47 1.35L5.41 20z\"/>\n",
              "  </svg>\n",
              "      </button>\n",
              "      \n",
              "  <style>\n",
              "    .colab-df-container {\n",
              "      display:flex;\n",
              "      flex-wrap:wrap;\n",
              "      gap: 12px;\n",
              "    }\n",
              "\n",
              "    .colab-df-convert {\n",
              "      background-color: #E8F0FE;\n",
              "      border: none;\n",
              "      border-radius: 50%;\n",
              "      cursor: pointer;\n",
              "      display: none;\n",
              "      fill: #1967D2;\n",
              "      height: 32px;\n",
              "      padding: 0 0 0 0;\n",
              "      width: 32px;\n",
              "    }\n",
              "\n",
              "    .colab-df-convert:hover {\n",
              "      background-color: #E2EBFA;\n",
              "      box-shadow: 0px 1px 2px rgba(60, 64, 67, 0.3), 0px 1px 3px 1px rgba(60, 64, 67, 0.15);\n",
              "      fill: #174EA6;\n",
              "    }\n",
              "\n",
              "    [theme=dark] .colab-df-convert {\n",
              "      background-color: #3B4455;\n",
              "      fill: #D2E3FC;\n",
              "    }\n",
              "\n",
              "    [theme=dark] .colab-df-convert:hover {\n",
              "      background-color: #434B5C;\n",
              "      box-shadow: 0px 1px 3px 1px rgba(0, 0, 0, 0.15);\n",
              "      filter: drop-shadow(0px 1px 2px rgba(0, 0, 0, 0.3));\n",
              "      fill: #FFFFFF;\n",
              "    }\n",
              "  </style>\n",
              "\n",
              "      <script>\n",
              "        const buttonEl =\n",
              "          document.querySelector('#df-9393a8cd-6987-4856-8538-517efd25c598 button.colab-df-convert');\n",
              "        buttonEl.style.display =\n",
              "          google.colab.kernel.accessAllowed ? 'block' : 'none';\n",
              "\n",
              "        async function convertToInteractive(key) {\n",
              "          const element = document.querySelector('#df-9393a8cd-6987-4856-8538-517efd25c598');\n",
              "          const dataTable =\n",
              "            await google.colab.kernel.invokeFunction('convertToInteractive',\n",
              "                                                     [key], {});\n",
              "          if (!dataTable) return;\n",
              "\n",
              "          const docLinkHtml = 'Like what you see? Visit the ' +\n",
              "            '<a target=\"_blank\" href=https://colab.research.google.com/notebooks/data_table.ipynb>data table notebook</a>'\n",
              "            + ' to learn more about interactive tables.';\n",
              "          element.innerHTML = '';\n",
              "          dataTable['output_type'] = 'display_data';\n",
              "          await google.colab.output.renderOutput(dataTable, element);\n",
              "          const docLink = document.createElement('div');\n",
              "          docLink.innerHTML = docLinkHtml;\n",
              "          element.appendChild(docLink);\n",
              "        }\n",
              "      </script>\n",
              "    </div>\n",
              "  </div>\n",
              "  "
            ],
            "text/plain": [
              "   id  ...                                        source_link\n",
              "0  34  ...      http://www.nbc4.com/news/11186871/detail.html\n",
              "1  42  ...  http://www.cantonrep.com/index.php?ID=345054&C...\n",
              "2  56  ...  https://web.archive.org/web/20080423132842/htt...\n",
              "3  59  ...  http://www.hebdos.net/lsc/edition162007/articl...\n",
              "4  61  ...                                                NaN\n",
              "\n",
              "[5 rows x 23 columns]"
            ]
          },
          "execution_count": 22,
          "metadata": {},
          "output_type": "execute_result"
        }
      ],
      "source": [
        "landslides.head()"
      ]
    },
    {
      "cell_type": "markdown",
      "metadata": {
        "id": "XNYKK6mVjHKl"
      },
      "source": [
        "Vemos que la columna que necesitamos se llama date. En caso de que ya sepas en nombre de la columna que vas a utilizar, puedes hacer un print mas especifico."
      ]
    },
    {
      "cell_type": "code",
      "execution_count": null,
      "metadata": {
        "colab": {
          "base_uri": "https://localhost:8080/"
        },
        "id": "4i6_q_M5jXab",
        "outputId": "828a31c8-ea63-46a7-f429-c2c8f14aa1ec"
      },
      "outputs": [
        {
          "name": "stdout",
          "output_type": "stream",
          "text": [
            "0     3/2/07\n",
            "1    3/22/07\n",
            "2     4/6/07\n",
            "3    4/14/07\n",
            "4    4/15/07\n",
            "Name: date, dtype: object\n"
          ]
        }
      ],
      "source": [
        "print(landslides['date'].head())"
      ]
    },
    {
      "cell_type": "markdown",
      "metadata": {
        "id": "P1SzB91yjf1o"
      },
      "source": [
        "Ya que doble confirmamos que esta base de datos tiene información de fechas, tenemos que asegurarnos de que python también este al corriente que esta columna se trata de fechas. Si observamos la última linea del resultado anterior, podemos ver que el tipo de dato que dice que esta columna contiene es object.\n",
        "\n",
        "> La librería de Pandas usa la etiqueta de object dtype para guardar varios tipos de valores, pero usualmente cuando revisas el dtype de la columna y sale objeto, se trata de strings. \n",
        "\n",
        "Esto es un problema ya que cuando revisas la documentación de pandas, ya existe un dtype de datos que pertenece a fechas llamado datetime64. Entonces, ya que nuestra columna date se imprime como object y no como datetime64, podemos ver que python no reconoce nuestros datos como fechas.\n",
        "\n",
        "Otra manera de revisar que tipo de datos contiene una columna:"
      ]
    },
    {
      "cell_type": "code",
      "execution_count": null,
      "metadata": {
        "colab": {
          "base_uri": "https://localhost:8080/"
        },
        "id": "H_NdqHm_krCe",
        "outputId": "3946f3f5-5402-4540-c5b5-bcb98b0f37d5"
      },
      "outputs": [
        {
          "data": {
            "text/plain": [
              "dtype('O')"
            ]
          },
          "execution_count": 24,
          "metadata": {},
          "output_type": "execute_result"
        }
      ],
      "source": [
        "landslides['date'].dtype"
      ]
    },
    {
      "cell_type": "markdown",
      "metadata": {
        "id": "EOK1bj83kz_A"
      },
      "source": [
        "Para interpretar este resultado puedes leer la documentación de la librería de numpy para saber que la letra 'O' representa object. "
      ]
    },
    {
      "cell_type": "markdown",
      "metadata": {
        "id": "MIx_360Fk_4e"
      },
      "source": [
        "## Paso 3: Convierte columna de fecha a datetime\n",
        "\n",
        "Ahora que aseguramos que nuestros datos de la columna date aun no son reconocidos por python como datetime, podemos empezar a corregir y cambiar los formatos. A esto se le llama parsing dates, que se traduce crudamente a analisis de fechas, porque estamos tomando el valor de la celda como un string y vamos a hacer que python identifique las partes que la componen.\n",
        "\n",
        "Podemos determinar cual es el formato de nuestra columna de fechas con el siguiente [cheatsheet](https://strftime.org/). La idea básica de este proceso es que debemos analizar cuales son las parted de la fecha y cual es el tipo de puntuación que las divide. Hay una gran variedad de diferentes formas de tener fechas, pero las más comunes es dia/mes/año, que se representa como %d, %m, %y por sus nombres en inglés. Estas son las representaciónes para numeros de dos digitos, por ejemplo 21/02/21. En caso de que el año se represente con cuatro digitos, es necesario poner %Y con mayúscula.\n",
        "\n",
        "En el caso de nuestra base de datos, el formato es de mes/dia/año (común en bases de datos de USA), asi que lo primero que tenemos que hacer es establecer estas variables de esa manera."
      ]
    },
    {
      "cell_type": "code",
      "execution_count": null,
      "metadata": {
        "id": "KQclhQxdpFYw"
      },
      "outputs": [],
      "source": [
        "#Creamos una nueva columna que contenga los valores de fecha con el formato que \n",
        "#python requiere para reconocerla como datetime\n",
        "\n",
        "landslides['date_parsed'] = pd.to_datetime(landslides['date'], format = \"%m/%d/%y\")"
      ]
    },
    {
      "cell_type": "markdown",
      "metadata": {
        "id": "QTpieyKspnD-"
      },
      "source": [
        "Ahora podemos revisar si el tipo de dato cambia en la nueva columna que generamos con la función head()."
      ]
    },
    {
      "cell_type": "code",
      "execution_count": null,
      "metadata": {
        "colab": {
          "base_uri": "https://localhost:8080/"
        },
        "id": "17uKxFjwpmR-",
        "outputId": "dd96f503-75ea-496c-9cbe-1694e1414918"
      },
      "outputs": [
        {
          "data": {
            "text/plain": [
              "0   2007-03-02\n",
              "1   2007-03-22\n",
              "2   2007-04-06\n",
              "3   2007-04-14\n",
              "4   2007-04-15\n",
              "Name: date_parsed, dtype: datetime64[ns]"
            ]
          },
          "execution_count": 26,
          "metadata": {},
          "output_type": "execute_result"
        }
      ],
      "source": [
        "landslides['date_parsed'].head()\n"
      ]
    },
    {
      "cell_type": "markdown",
      "metadata": {
        "id": "7RW45IIbp4wT"
      },
      "source": [
        "Ya que estan en este formato de datetime, puedes interactuar con esta información para modelos de predicción.\n",
        "\n",
        "Algunas de las dudas más comunes que surgen cuando se estan analizando las columnas que contienen fechas son:\n",
        "\n",
        "> **¿Que hacer si me marca error el código anterior porque tengo multiples formatos de fecha?** Como mencionamos anteriormente, existen algunas bases de datos que puede que tengan formatos inconsistentes de fechas en una sola columna. Si te llega a pasar eso, puedes utilizar pandas para que trate de hacer una inferencia en cual es el formato correcto con el siguiente código:\n",
        "\n",
        "```python\n",
        "landslides['date_parsed'] = pd.to_datetime(landslides['Date'], infer_datetime_format = True)\n",
        "```\n",
        "\n",
        "> **¿Porque entonces no empiezo con esa linea de código en lugar de solo especificar un tipo de fecha?** Hay dos razones por las cuales es preferible dejar esta línea de código hasta que ocurra un error. La primera es que pandas no siempre es capaz de adivinar el tipo de formato correcto si de deja que elija. La segunda es que es un proceso pesado, y si se tiene una base de datos grande (como es comun en bases de datos con fechas de varios años) el proceso de especificar fechas se alargaría mucho más."
      ]
    },
    {
      "cell_type": "markdown",
      "metadata": {
        "id": "PolaaVx_riiI"
      },
      "source": [
        "## Paso 4: Extraer información especifica\n",
        "\n",
        "Para este paso tomamos en cuenta que tal vez se quiere sacar información de un mes o un día en especifico. En este caso en el ejemplo siguiente extraemos solo el día del mes en el que ocurrió el deslave."
      ]
    },
    {
      "cell_type": "code",
      "execution_count": null,
      "metadata": {
        "colab": {
          "base_uri": "https://localhost:8080/"
        },
        "id": "HkUq5sNEr-pC",
        "outputId": "e5fe7630-23d0-490a-a858-d85bdb1df2d3"
      },
      "outputs": [
        {
          "data": {
            "text/plain": [
              "0     2.0\n",
              "1    22.0\n",
              "2     6.0\n",
              "3    14.0\n",
              "4    15.0\n",
              "Name: date_parsed, dtype: float64"
            ]
          },
          "execution_count": 27,
          "metadata": {},
          "output_type": "execute_result"
        }
      ],
      "source": [
        "day_landslides = landslides['date_parsed'].dt.day\n",
        "day_landslides.head()"
      ]
    },
    {
      "cell_type": "markdown",
      "metadata": {
        "id": "xQGfnQAXsx66"
      },
      "source": [
        "Si revisamos los resultados de landslides['date_parsed'].head() con estos nuevos resultados vemos que efectivamente nos muestra el día del mes en el que ocurrió el deslave. \n",
        "\n",
        "Si hubieramos tratado de correr este mismo código con la columna date original, nos hubiera arrojado un error, ya que el valor dt. solo funciona con tipos de datos datetimelike y no con tipo object. Cuando trabajes con otras bases de datos, a pesar de que puedan tener fechas, primero es necesario realizar este analisis antes de poder interactuar con la información."
      ]
    },
    {
      "cell_type": "markdown",
      "metadata": {
        "id": "ifIOzmZPtalM"
      },
      "source": [
        "## Paso 5: Graficar resultados\n",
        "\n",
        "Hay muchas maneras en las que puedes gráficar fechas. La más comun es cuando queremos hacer pronósticos y graficamos una linea del tiempo. En este caso solo queremos asegurar que no hay ningun dato extraño dentro de nuestras fechas. Para hacer esto, vamos a graficar un histograma con los datos de los días del mes en los que ocurrió el deslave. En este caso podemos esperar que el comportamiento de la gráfica sea entre valores del 1 al 31 porque no hay meses que tengan mas días que esos. \n",
        "\n",
        "Los deslaves pueden ser mas comunes en algunos días que en otros, pero no queremos más información al respecto que saber que no hay datos extraños, por lo que la distribución puede ser bastante a la par."
      ]
    },
    {
      "cell_type": "code",
      "execution_count": null,
      "metadata": {
        "colab": {
          "base_uri": "https://localhost:8080/",
          "height": 352
        },
        "id": "R6IASCVcuSv7",
        "outputId": "7fb0ef15-981a-45cd-83cb-de0cb842a010"
      },
      "outputs": [
        {
          "name": "stderr",
          "output_type": "stream",
          "text": [
            "/usr/local/lib/python3.7/dist-packages/seaborn/distributions.py:2619: FutureWarning: `distplot` is a deprecated function and will be removed in a future version. Please adapt your code to use either `displot` (a figure-level function with similar flexibility) or `histplot` (an axes-level function for histograms).\n",
            "  warnings.warn(msg, FutureWarning)\n"
          ]
        },
        {
          "data": {
            "text/plain": [
              "<matplotlib.axes._subplots.AxesSubplot at 0x7f3f4a972dd0>"
            ]
          },
          "execution_count": 28,
          "metadata": {},
          "output_type": "execute_result"
        },
        {
          "data": {
            "image/png": "[encoded data removed]",
            "text/plain": [
              "<Figure size 432x288 with 1 Axes>"
            ]
          },
          "metadata": {},
          "output_type": "display_data"
        }
      ],
      "source": [
        "#Para evitar errores en la gráfica eliminamos los valores nulos.\n",
        "day_landslides = day_landslides.dropna()\n",
        "\n",
        "#Graficamos \n",
        "sns.distplot(day_landslides, kde =False, bins = 31)"
      ]
    },
    {
      "cell_type": "markdown",
      "metadata": {
        "id": "R7ByebXZup0H"
      },
      "source": [
        "Parece que la información de los dias es correcta."
      ]
    },
    {
      "cell_type": "markdown",
      "metadata": {
        "id": "jF6o0HgBwrS3"
      },
      "source": [
        "# **4. Codificación de caracteres**\n",
        "\n",
        "Primeramente es importante saber que es codificación de caracteres:\n",
        "\n",
        "> **Codificación de caracteres:** Se refiera una serie especifica de reglas para mapear información desde cadenas de datos binarios sin procesar (el ejemplo más común que encontramos en bases de datos se ve algo como esto: 0010011100101011) y se transforman a datos entendibles por el ser humano (como por ejemplo strings de texto). Existen muchos diferentes tipos de codificaciones, y si tratas de traducirlo con la codificacón equivocada, puedes terminar con un texto que no tiene nada de sentido o que aparecen como \"unknown characters\", que es cuando aparecen rombos con signos de interrgación.\n",
        "\n",
        "Las discrepancias en la codificación de caracteres son menos comunes hoy en día de lo que solían ser, pero sigue siendo un problema al que nos podemos encontrar. Hay muchos diferentes tipos de codificaciones, pero el que es más común de utilizar es el UTF-8.\n",
        "\n",
        "> **UTF-8:** Es un tipo de codificación de texto que refiere a python. Todo código de python estan en fomato UTF-8, e idelmente, los datos con los que trabajemos deben de estar en ese mismo formato. Es cuando una base de datos contiene caracteres diferentes de este formato que entramos en problemas\n",
        "\n",
        "Vamos a realizar un experimento de que pasa cuando convertimos y reemplazamos codificaciones."
      ]
    },
    {
      "cell_type": "markdown",
      "metadata": {
        "id": "KvA7vlogzH0O"
      },
      "source": [
        "## Paso 1: Codificación UTF-8\n",
        "\n",
        "Primero iniciamos cargando las librerías que necesitamos para este ejemplo. En este caso tenemos también otra base de datos con problemas de codificación. Repitiendo el proceso que llevamos haciendo, tenemos que descargar la base de datos del siguiente [link](https://www.kaggle.com/kemical/kickstarter-projects) y guardarlo en nuestra carpeta de drive que esta vinculada a nuestro colab."
      ]
    },
    {
      "cell_type": "code",
      "execution_count": null,
      "metadata": {
        "id": "Hht-Zp1py-PD"
      },
      "outputs": [],
      "source": [
        "#Modulos que usaremos\n",
        "import pandas as pd\n",
        "import numpy as np\n",
        "\n",
        "#Modulo que nos ayudara con las codificaciones\n",
        "import chardet\n",
        "\n",
        "#Random seed\n",
        "np.random.seed(0)"
      ]
    },
    {
      "cell_type": "markdown",
      "metadata": {
        "id": "A3sQjttn0FaL"
      },
      "source": [
        "Empezamos con un ejemplo sencillo. "
      ]
    },
    {
      "cell_type": "code",
      "execution_count": null,
      "metadata": {
        "colab": {
          "base_uri": "https://localhost:8080/"
        },
        "id": "ylHGOUrW0KxN",
        "outputId": "2d661ee8-28af-41e8-9618-69f1dc3c2187"
      },
      "outputs": [
        {
          "data": {
            "text/plain": [
              "str"
            ]
          },
          "execution_count": 30,
          "metadata": {},
          "output_type": "execute_result"
        }
      ],
      "source": [
        "#Iniciamos con un string\n",
        "antes = \"Este es el simbolo de un euro: €\"\n",
        "\n",
        "#Revisamos el tipo de datatype que arroja\n",
        "type(antes)"
      ]
    },
    {
      "cell_type": "markdown",
      "metadata": {
        "id": "Swfcie_20fyp"
      },
      "source": [
        "Ahora vamos a convertir este string en tipo de datos byte especificando con que tipo de codificación estamos lidiando."
      ]
    },
    {
      "cell_type": "code",
      "execution_count": null,
      "metadata": {
        "colab": {
          "base_uri": "https://localhost:8080/"
        },
        "id": "mhuOFZTZ0ruH",
        "outputId": "6dd0416e-f423-4c17-a251-392edf140ded"
      },
      "outputs": [
        {
          "data": {
            "text/plain": [
              "bytes"
            ]
          },
          "execution_count": 31,
          "metadata": {},
          "output_type": "execute_result"
        }
      ],
      "source": [
        "#Codificar a uno diferente, reemplazando caracteres que pueden causar error\n",
        "despues = antes.encode(\"utf-8\", errors= \"replace\")\n",
        "\n",
        "#Revisamos el tipo de dato de nuevo\n",
        "type(despues)"
      ]
    },
    {
      "cell_type": "markdown",
      "metadata": {
        "id": "0vzRrfm21F53"
      },
      "source": [
        "Que pasa ahora si intentamos imprimir nuestro string ahora."
      ]
    },
    {
      "cell_type": "code",
      "execution_count": null,
      "metadata": {
        "colab": {
          "base_uri": "https://localhost:8080/"
        },
        "id": "JFc44ug81KxY",
        "outputId": "53e4f10c-82e9-4e8a-92eb-9f3d6411afeb"
      },
      "outputs": [
        {
          "data": {
            "text/plain": [
              "b'Este es el simbolo de un euro: \\xe2\\x82\\xac'"
            ]
          },
          "execution_count": 32,
          "metadata": {},
          "output_type": "execute_result"
        }
      ],
      "source": [
        "despues"
      ]
    },
    {
      "cell_type": "markdown",
      "metadata": {
        "id": "dZ80coAU1NXW"
      },
      "source": [
        "Vemos que al inicio del objeto que tenemos ahora lo precede una b, después algo de texto. Eso es porque los tipos de datos byte se imprimen como si fueran datos codificados en ASCII.\n",
        "\n",
        "> ASCII es una codificación de texto mas antigua que no funciona para muchas otras cosas mas que para escribir texto en inglés.\n",
        "\n",
        "En el resultado podemos ver también que lo que inició como un simbolo de euro se transformó en un disparate (\\xe2\\x82\\xac) que solo significa que la codificación de ASCII intento traducirlo al inglés pero fallo.\n",
        "\n",
        "Cuando corregimos y convertimos nuestros datos tipo byte de nuevo a string con la codificación correcta, podemos ver que nuestro texto regresa a la normalidad."
      ]
    },
    {
      "cell_type": "code",
      "execution_count": null,
      "metadata": {
        "colab": {
          "base_uri": "https://localhost:8080/"
        },
        "id": "K8OX06pg2N67",
        "outputId": "4a436c71-5976-477c-823d-8db62089246e"
      },
      "outputs": [
        {
          "name": "stdout",
          "output_type": "stream",
          "text": [
            "Este es el simbolo de un euro: €\n"
          ]
        }
      ],
      "source": [
        "#Convertimos nuestro string de nuevo a utf-8\n",
        "print(despues.decode(\"utf-8\"))"
      ]
    },
    {
      "cell_type": "markdown",
      "metadata": {
        "id": "IK1roAeczdIC"
      },
      "source": [
        "Toma en cuenta que siempre que trates de usar una codificación que no pertenece a tu base de datos, esta la va a rechazar y te mandara un mensaje de error. Por ejemplo, con esto que acabamos de realizar de datos byte, si no le dices a python en tu código que con lo que esta lidiando es otro tipo de codificación, python va a intentar rellenarlo con otra cosa, y es cuando tenemos como resultado datos que no tienen sentido.\n",
        "\n",
        "> Un ejemplo comunmente usado para representar datos y sus codificaciones se puede decir como las diferentes formas que teniamos de escuchar música. Podemos reproducir musica en un CD, o en un cassete, o en un vinil. La musica sonará mas o menos igual para nosotros, pero necesitamos reproducir cada elemento en su equipo correcto. No puedes reproducir un cassete en un reproductor de CDs. Lo mismo aplica en este punto.\n",
        "\n",
        "Veamos un ejemplo de intentar leer un objeto con una codificación distinta.\n"
      ]
    },
    {
      "cell_type": "code",
      "execution_count": null,
      "metadata": {
        "colab": {
          "base_uri": "https://localhost:8080/",
          "height": 201
        },
        "id": "Wjb_Qts40s6A",
        "outputId": "2012a337-907f-49b1-ee5b-2e88f48189ee"
      },
      "outputs": [
        {
          "ename": "UnicodeDecodeError",
          "evalue": "ignored",
          "output_type": "error",
          "traceback": [
            "\u001b[0;31m---------------------------------------------------------------------------\u001b[0m",
            "\u001b[0;31mUnicodeDecodeError\u001b[0m                        Traceback (most recent call last)",
            "\u001b[0;32m<ipython-input-36-15d75ec907e4>\u001b[0m in \u001b[0;36m<module>\u001b[0;34m()\u001b[0m\n\u001b[1;32m      1\u001b[0m \u001b[0;31m# Con nuestra variable convertida en bytes, vamos a leerla con el codificador ASCCI\u001b[0m\u001b[0;34m\u001b[0m\u001b[0;34m\u001b[0m\u001b[0;34m\u001b[0m\u001b[0m\n\u001b[1;32m      2\u001b[0m \u001b[0;34m\u001b[0m\u001b[0m\n\u001b[0;32m----> 3\u001b[0;31m \u001b[0mprint\u001b[0m\u001b[0;34m(\u001b[0m\u001b[0mdespues\u001b[0m\u001b[0;34m.\u001b[0m\u001b[0mdecode\u001b[0m\u001b[0;34m(\u001b[0m\u001b[0;34m\"ascii\"\u001b[0m\u001b[0;34m)\u001b[0m\u001b[0;34m)\u001b[0m\u001b[0;34m\u001b[0m\u001b[0;34m\u001b[0m\u001b[0m\n\u001b[0m",
            "\u001b[0;31mUnicodeDecodeError\u001b[0m: 'ascii' codec can't decode byte 0xe2 in position 31: ordinal not in range(128)"
          ]
        }
      ],
      "source": [
        "# Con nuestra variable convertida en bytes, vamos a leerla con el codificador ASCCI\n",
        "\n",
        "print(despues.decode(\"ascii\"))"
      ]
    },
    {
      "cell_type": "markdown",
      "metadata": {
        "id": "lB7lRXA71A_k"
      },
      "source": [
        "Algo que tenemos que tomar en cuenta también es que al usar encode() para convertir nuestros datos a una codificación diferente, hay ocasiones en que algunos caracteres se reemplazaran con valores desconocidos, y cuando queramos convertirlos de regreso a nuestros datos originales, estos caracteres se perderan. La parte peligrosa de eso es que no hay manera de recuperar esos datos, y básicamente estaremos dejando nuestra base de datos inusable."
      ]
    },
    {
      "cell_type": "code",
      "execution_count": null,
      "metadata": {
        "colab": {
          "base_uri": "https://localhost:8080/"
        },
        "id": "ZaUh1sh01jQQ",
        "outputId": "245afd5e-2ce6-4f46-e27e-b0089226588b"
      },
      "outputs": [
        {
          "name": "stdout",
          "output_type": "stream",
          "text": [
            "Este es un simbolo de euro: ?\n"
          ]
        }
      ],
      "source": [
        "#Repitamos el ejemplo para ejemplificar lo que acabamos de decir\n",
        "antes = \"Este es un simbolo de euro: €\"\n",
        "\n",
        "#Codificamos con un ascii e indicamos que queremos reemplazar valores que causen error\n",
        "despues = antes.encode(\"ascii\", errors = \"replace\")\n",
        "\n",
        "#Convertimos de regreso a utf-8\n",
        "print(despues.decode(\"ascii\"))"
      ]
    },
    {
      "cell_type": "markdown",
      "metadata": {
        "id": "JnLLRwMm2I-o"
      },
      "source": [
        "Si nos fijamos en el resultado, hemos perdido parte de nuestros datos. Aqui es sencillo hacer inferencia de los datos perdidos, pero si realizas esto con toda una columna de una base de datos, será mucho más dificil saber cuales son los datos perdidos."
      ]
    },
    {
      "cell_type": "markdown",
      "metadata": {
        "id": "6kDnShxc2VfA"
      },
      "source": [
        "## Paso 2: Leer archivos con problemas de codificación\n",
        "\n",
        "Ahora que sabemos que utf-8 es el default que vamos a encontrar dentro de muchas bases de datos que existen, vamos a revisar que podemos hacer si nos encontramos con bases de datos que no cumplen con ese estandar.\n",
        "\n",
        "Para esto tenemos otra base de datos que descargamos y vinculamos desde el paso uno. Ahora solo tenemos que mandarla a llamar como hemos realizado anteriormente."
      ]
    },
    {
      "cell_type": "code",
      "execution_count": null,
      "metadata": {
        "colab": {
          "base_uri": "https://localhost:8080/",
          "height": 832
        },
        "id": "-w6g-2yP26vv",
        "outputId": "a47e5b48-7562-4911-efec-b5404093b9ab"
      },
      "outputs": [
        {
          "ename": "UnicodeDecodeError",
          "evalue": "ignored",
          "output_type": "error",
          "traceback": [
            "\u001b[0;31m---------------------------------------------------------------------------\u001b[0m",
            "\u001b[0;31mUnicodeDecodeError\u001b[0m                        Traceback (most recent call last)",
            "\u001b[0;32mpandas/_libs/parsers.pyx\u001b[0m in \u001b[0;36mpandas._libs.parsers.TextReader._convert_tokens\u001b[0;34m()\u001b[0m\n",
            "\u001b[0;32mpandas/_libs/parsers.pyx\u001b[0m in \u001b[0;36mpandas._libs.parsers.TextReader._convert_with_dtype\u001b[0;34m()\u001b[0m\n",
            "\u001b[0;32mpandas/_libs/parsers.pyx\u001b[0m in \u001b[0;36mpandas._libs.parsers.TextReader._string_convert\u001b[0;34m()\u001b[0m\n",
            "\u001b[0;32mpandas/_libs/parsers.pyx\u001b[0m in \u001b[0;36mpandas._libs.parsers._string_box_utf8\u001b[0;34m()\u001b[0m\n",
            "\u001b[0;31mUnicodeDecodeError\u001b[0m: 'utf-8' codec can't decode byte 0x99 in position 11: invalid start byte",
            "\nDuring handling of the above exception, another exception occurred:\n",
            "\u001b[0;31mUnicodeDecodeError\u001b[0m                        Traceback (most recent call last)",
            "\u001b[0;32m<ipython-input-38-23ad699665a8>\u001b[0m in \u001b[0;36m<module>\u001b[0;34m()\u001b[0m\n\u001b[1;32m      1\u001b[0m \u001b[0;31m#Empezamos leyendo el archivo como normalmente lo hacemos.\u001b[0m\u001b[0;34m\u001b[0m\u001b[0;34m\u001b[0m\u001b[0;34m\u001b[0m\u001b[0m\n\u001b[0;32m----> 2\u001b[0;31m \u001b[0mkickstarter_2016\u001b[0m \u001b[0;34m=\u001b[0m \u001b[0mpd\u001b[0m\u001b[0;34m.\u001b[0m\u001b[0mread_csv\u001b[0m\u001b[0;34m(\u001b[0m\u001b[0;34m\"/content/drive/MyDrive/Datasets/ks-projects-201612.csv\"\u001b[0m\u001b[0;34m)\u001b[0m\u001b[0;34m\u001b[0m\u001b[0;34m\u001b[0m\u001b[0m\n\u001b[0m",
            "\u001b[0;32m/usr/local/lib/python3.7/dist-packages/pandas/io/parsers.py\u001b[0m in \u001b[0;36mread_csv\u001b[0;34m(filepath_or_buffer, sep, delimiter, header, names, index_col, usecols, squeeze, prefix, mangle_dupe_cols, dtype, engine, converters, true_values, false_values, skipinitialspace, skiprows, skipfooter, nrows, na_values, keep_default_na, na_filter, verbose, skip_blank_lines, parse_dates, infer_datetime_format, keep_date_col, date_parser, dayfirst, cache_dates, iterator, chunksize, compression, thousands, decimal, lineterminator, quotechar, quoting, doublequote, escapechar, comment, encoding, dialect, error_bad_lines, warn_bad_lines, delim_whitespace, low_memory, memory_map, float_precision)\u001b[0m\n\u001b[1;32m    686\u001b[0m     )\n\u001b[1;32m    687\u001b[0m \u001b[0;34m\u001b[0m\u001b[0m\n\u001b[0;32m--> 688\u001b[0;31m     \u001b[0;32mreturn\u001b[0m \u001b[0m_read\u001b[0m\u001b[0;34m(\u001b[0m\u001b[0mfilepath_or_buffer\u001b[0m\u001b[0;34m,\u001b[0m \u001b[0mkwds\u001b[0m\u001b[0;34m)\u001b[0m\u001b[0;34m\u001b[0m\u001b[0;34m\u001b[0m\u001b[0m\n\u001b[0m\u001b[1;32m    689\u001b[0m \u001b[0;34m\u001b[0m\u001b[0m\n\u001b[1;32m    690\u001b[0m \u001b[0;34m\u001b[0m\u001b[0m\n",
            "\u001b[0;32m/usr/local/lib/python3.7/dist-packages/pandas/io/parsers.py\u001b[0m in \u001b[0;36m_read\u001b[0;34m(filepath_or_buffer, kwds)\u001b[0m\n\u001b[1;32m    458\u001b[0m \u001b[0;34m\u001b[0m\u001b[0m\n\u001b[1;32m    459\u001b[0m     \u001b[0;32mtry\u001b[0m\u001b[0;34m:\u001b[0m\u001b[0;34m\u001b[0m\u001b[0;34m\u001b[0m\u001b[0m\n\u001b[0;32m--> 460\u001b[0;31m         \u001b[0mdata\u001b[0m \u001b[0;34m=\u001b[0m \u001b[0mparser\u001b[0m\u001b[0;34m.\u001b[0m\u001b[0mread\u001b[0m\u001b[0;34m(\u001b[0m\u001b[0mnrows\u001b[0m\u001b[0;34m)\u001b[0m\u001b[0;34m\u001b[0m\u001b[0;34m\u001b[0m\u001b[0m\n\u001b[0m\u001b[1;32m    461\u001b[0m     \u001b[0;32mfinally\u001b[0m\u001b[0;34m:\u001b[0m\u001b[0;34m\u001b[0m\u001b[0;34m\u001b[0m\u001b[0m\n\u001b[1;32m    462\u001b[0m         \u001b[0mparser\u001b[0m\u001b[0;34m.\u001b[0m\u001b[0mclose\u001b[0m\u001b[0;34m(\u001b[0m\u001b[0;34m)\u001b[0m\u001b[0;34m\u001b[0m\u001b[0;34m\u001b[0m\u001b[0m\n",
            "\u001b[0;32m/usr/local/lib/python3.7/dist-packages/pandas/io/parsers.py\u001b[0m in \u001b[0;36mread\u001b[0;34m(self, nrows)\u001b[0m\n\u001b[1;32m   1196\u001b[0m     \u001b[0;32mdef\u001b[0m \u001b[0mread\u001b[0m\u001b[0;34m(\u001b[0m\u001b[0mself\u001b[0m\u001b[0;34m,\u001b[0m \u001b[0mnrows\u001b[0m\u001b[0;34m=\u001b[0m\u001b[0;32mNone\u001b[0m\u001b[0;34m)\u001b[0m\u001b[0;34m:\u001b[0m\u001b[0;34m\u001b[0m\u001b[0;34m\u001b[0m\u001b[0m\n\u001b[1;32m   1197\u001b[0m         \u001b[0mnrows\u001b[0m \u001b[0;34m=\u001b[0m \u001b[0m_validate_integer\u001b[0m\u001b[0;34m(\u001b[0m\u001b[0;34m\"nrows\"\u001b[0m\u001b[0;34m,\u001b[0m \u001b[0mnrows\u001b[0m\u001b[0;34m)\u001b[0m\u001b[0;34m\u001b[0m\u001b[0;34m\u001b[0m\u001b[0m\n\u001b[0;32m-> 1198\u001b[0;31m         \u001b[0mret\u001b[0m \u001b[0;34m=\u001b[0m \u001b[0mself\u001b[0m\u001b[0;34m.\u001b[0m\u001b[0m_engine\u001b[0m\u001b[0;34m.\u001b[0m\u001b[0mread\u001b[0m\u001b[0;34m(\u001b[0m\u001b[0mnrows\u001b[0m\u001b[0;34m)\u001b[0m\u001b[0;34m\u001b[0m\u001b[0;34m\u001b[0m\u001b[0m\n\u001b[0m\u001b[1;32m   1199\u001b[0m \u001b[0;34m\u001b[0m\u001b[0m\n\u001b[1;32m   1200\u001b[0m         \u001b[0;31m# May alter columns / col_dict\u001b[0m\u001b[0;34m\u001b[0m\u001b[0;34m\u001b[0m\u001b[0;34m\u001b[0m\u001b[0m\n",
            "\u001b[0;32m/usr/local/lib/python3.7/dist-packages/pandas/io/parsers.py\u001b[0m in \u001b[0;36mread\u001b[0;34m(self, nrows)\u001b[0m\n\u001b[1;32m   2155\u001b[0m     \u001b[0;32mdef\u001b[0m \u001b[0mread\u001b[0m\u001b[0;34m(\u001b[0m\u001b[0mself\u001b[0m\u001b[0;34m,\u001b[0m \u001b[0mnrows\u001b[0m\u001b[0;34m=\u001b[0m\u001b[0;32mNone\u001b[0m\u001b[0;34m)\u001b[0m\u001b[0;34m:\u001b[0m\u001b[0;34m\u001b[0m\u001b[0;34m\u001b[0m\u001b[0m\n\u001b[1;32m   2156\u001b[0m         \u001b[0;32mtry\u001b[0m\u001b[0;34m:\u001b[0m\u001b[0;34m\u001b[0m\u001b[0;34m\u001b[0m\u001b[0m\n\u001b[0;32m-> 2157\u001b[0;31m             \u001b[0mdata\u001b[0m \u001b[0;34m=\u001b[0m \u001b[0mself\u001b[0m\u001b[0;34m.\u001b[0m\u001b[0m_reader\u001b[0m\u001b[0;34m.\u001b[0m\u001b[0mread\u001b[0m\u001b[0;34m(\u001b[0m\u001b[0mnrows\u001b[0m\u001b[0;34m)\u001b[0m\u001b[0;34m\u001b[0m\u001b[0;34m\u001b[0m\u001b[0m\n\u001b[0m\u001b[1;32m   2158\u001b[0m         \u001b[0;32mexcept\u001b[0m \u001b[0mStopIteration\u001b[0m\u001b[0;34m:\u001b[0m\u001b[0;34m\u001b[0m\u001b[0;34m\u001b[0m\u001b[0m\n\u001b[1;32m   2159\u001b[0m             \u001b[0;32mif\u001b[0m \u001b[0mself\u001b[0m\u001b[0;34m.\u001b[0m\u001b[0m_first_chunk\u001b[0m\u001b[0;34m:\u001b[0m\u001b[0;34m\u001b[0m\u001b[0;34m\u001b[0m\u001b[0m\n",
            "\u001b[0;32mpandas/_libs/parsers.pyx\u001b[0m in \u001b[0;36mpandas._libs.parsers.TextReader.read\u001b[0;34m()\u001b[0m\n",
            "\u001b[0;32mpandas/_libs/parsers.pyx\u001b[0m in \u001b[0;36mpandas._libs.parsers.TextReader._read_low_memory\u001b[0;34m()\u001b[0m\n",
            "\u001b[0;32mpandas/_libs/parsers.pyx\u001b[0m in \u001b[0;36mpandas._libs.parsers.TextReader._read_rows\u001b[0;34m()\u001b[0m\n",
            "\u001b[0;32mpandas/_libs/parsers.pyx\u001b[0m in \u001b[0;36mpandas._libs.parsers.TextReader._convert_column_data\u001b[0;34m()\u001b[0m\n",
            "\u001b[0;32mpandas/_libs/parsers.pyx\u001b[0m in \u001b[0;36mpandas._libs.parsers.TextReader._convert_tokens\u001b[0;34m()\u001b[0m\n",
            "\u001b[0;32mpandas/_libs/parsers.pyx\u001b[0m in \u001b[0;36mpandas._libs.parsers.TextReader._convert_with_dtype\u001b[0;34m()\u001b[0m\n",
            "\u001b[0;32mpandas/_libs/parsers.pyx\u001b[0m in \u001b[0;36mpandas._libs.parsers.TextReader._string_convert\u001b[0;34m()\u001b[0m\n",
            "\u001b[0;32mpandas/_libs/parsers.pyx\u001b[0m in \u001b[0;36mpandas._libs.parsers._string_box_utf8\u001b[0;34m()\u001b[0m\n",
            "\u001b[0;31mUnicodeDecodeError\u001b[0m: 'utf-8' codec can't decode byte 0x99 in position 11: invalid start byte"
          ]
        }
      ],
      "source": [
        "#Empezamos leyendo el archivo como normalmente lo hacemos.\n",
        "kickstarter_2016 = pd.read_csv(\"/content/drive/MyDrive/Datasets/ks-projects-201612.csv\")"
      ]
    },
    {
      "cell_type": "markdown",
      "metadata": {
        "id": "SW5LQZJQ8Apf"
      },
      "source": [
        "Siempre que un código nos genere errores, hay que revisar el último que aparece. En este caso vemos que el ultimo error es \"UnicodeDecodeError\" ya que intentamos leer utf-8 bytes como si fuesen ASCII. Este error nos dice que el archivo que estamos intentando abrir no es utf-8. Sin embargo, aun no sabemos que tipo de codificación es en realidad.\n",
        "\n",
        "Una manera de averiguar cual es la codificación que necesitamos es intentar y probar varias codificaciones de caracteres para saber cual funciona. Este proceso puede ser algo tedioso, por lo que siempre se sugiere iniciar con el modulo chadet de python que intenta adivinar automáticamente cual es el tipo de codificación que se tiene en el archivo. No se tiene una garantía del 100% de que llegue a una respuesta correcta, pero es la ruta más rápida con la que contamos.\n",
        "\n",
        "Para este experimento vamos a extraer solo los primeros 10,000 bytes del archivo. Esta cantidad de información por lo general es suficiente para poder hacer una buena predicción de cual es la codificación, además de que es mucho más rápido que darle todo el archivo de primeras.\n"
      ]
    },
    {
      "cell_type": "code",
      "execution_count": null,
      "metadata": {
        "colab": {
          "base_uri": "https://localhost:8080/"
        },
        "id": "UV-jkINJ-hPt",
        "outputId": "4402cc34-5abf-4f63-b831-f1ad4f9aa58c"
      },
      "outputs": [
        {
          "name": "stdout",
          "output_type": "stream",
          "text": [
            "{'encoding': 'Windows-1252', 'confidence': 0.73, 'language': ''}\n"
          ]
        }
      ],
      "source": [
        "#Revisamos los primeros 10,000 caracteres para predecir la codificacion\n",
        "with open(\"/content/drive/MyDrive/Datasets/ks-projects-201801.csv\", 'rb') as rawdata:\n",
        "  result = chardet.detect(rawdata.read(10000))\n",
        "\n",
        "#Imprimimos para saber el tipo de codificador.\n",
        "print(result)"
      ]
    },
    {
      "cell_type": "markdown",
      "metadata": {
        "id": "ycbYhoUP_Ipb"
      },
      "source": [
        "En el resultado podemos ver que la función de chardet tiene una confianza del 73% de que la codificiación correcta es la de \"Windows-1252\". Verificamos si esta predición es correcta."
      ]
    },
    {
      "cell_type": "code",
      "execution_count": null,
      "metadata": {
        "colab": {
          "base_uri": "https://localhost:8080/",
          "height": 547
        },
        "id": "jVjl7gbs_Y8W",
        "outputId": "da61c1bd-e60e-4dd9-8b81-e554206ae766"
      },
      "outputs": [
        {
          "name": "stderr",
          "output_type": "stream",
          "text": [
            "/usr/local/lib/python3.7/dist-packages/IPython/core/interactiveshell.py:2718: DtypeWarning: Columns (13,14,15) have mixed types.Specify dtype option on import or set low_memory=False.\n",
            "  interactivity=interactivity, compiler=compiler, result=result)\n"
          ]
        },
        {
          "data": {
            "text/html": [
              "\n",
              "  <div id=\"df-a6fda150-16fe-4a39-8f2d-78619787a007\">\n",
              "    <div class=\"colab-df-container\">\n",
              "      <div>\n",
              "<style scoped>\n",
              "    .dataframe tbody tr th:only-of-type {\n",
              "        vertical-align: middle;\n",
              "    }\n",
              "\n",
              "    .dataframe tbody tr th {\n",
              "        vertical-align: top;\n",
              "    }\n",
              "\n",
              "    .dataframe thead th {\n",
              "        text-align: right;\n",
              "    }\n",
              "</style>\n",
              "<table border=\"1\" class=\"dataframe\">\n",
              "  <thead>\n",
              "    <tr style=\"text-align: right;\">\n",
              "      <th></th>\n",
              "      <th>ID</th>\n",
              "      <th>name</th>\n",
              "      <th>category</th>\n",
              "      <th>main_category</th>\n",
              "      <th>currency</th>\n",
              "      <th>deadline</th>\n",
              "      <th>goal</th>\n",
              "      <th>launched</th>\n",
              "      <th>pledged</th>\n",
              "      <th>state</th>\n",
              "      <th>backers</th>\n",
              "      <th>country</th>\n",
              "      <th>usd pledged</th>\n",
              "      <th>Unnamed: 13</th>\n",
              "      <th>Unnamed: 14</th>\n",
              "      <th>Unnamed: 15</th>\n",
              "      <th>Unnamed: 16</th>\n",
              "    </tr>\n",
              "  </thead>\n",
              "  <tbody>\n",
              "    <tr>\n",
              "      <th>0</th>\n",
              "      <td>1000002330</td>\n",
              "      <td>The Songs of Adelaide &amp; Abullah</td>\n",
              "      <td>Poetry</td>\n",
              "      <td>Publishing</td>\n",
              "      <td>GBP</td>\n",
              "      <td>2015-10-09 11:36:00</td>\n",
              "      <td>1000</td>\n",
              "      <td>2015-08-11 12:12:28</td>\n",
              "      <td>0</td>\n",
              "      <td>failed</td>\n",
              "      <td>0</td>\n",
              "      <td>GB</td>\n",
              "      <td>0</td>\n",
              "      <td>NaN</td>\n",
              "      <td>NaN</td>\n",
              "      <td>NaN</td>\n",
              "      <td>NaN</td>\n",
              "    </tr>\n",
              "    <tr>\n",
              "      <th>1</th>\n",
              "      <td>1000004038</td>\n",
              "      <td>Where is Hank?</td>\n",
              "      <td>Narrative Film</td>\n",
              "      <td>Film &amp; Video</td>\n",
              "      <td>USD</td>\n",
              "      <td>2013-02-26 00:20:50</td>\n",
              "      <td>45000</td>\n",
              "      <td>2013-01-12 00:20:50</td>\n",
              "      <td>220</td>\n",
              "      <td>failed</td>\n",
              "      <td>3</td>\n",
              "      <td>US</td>\n",
              "      <td>220</td>\n",
              "      <td>NaN</td>\n",
              "      <td>NaN</td>\n",
              "      <td>NaN</td>\n",
              "      <td>NaN</td>\n",
              "    </tr>\n",
              "    <tr>\n",
              "      <th>2</th>\n",
              "      <td>1000007540</td>\n",
              "      <td>ToshiCapital Rekordz Needs Help to Complete Album</td>\n",
              "      <td>Music</td>\n",
              "      <td>Music</td>\n",
              "      <td>USD</td>\n",
              "      <td>2012-04-16 04:24:11</td>\n",
              "      <td>5000</td>\n",
              "      <td>2012-03-17 03:24:11</td>\n",
              "      <td>1</td>\n",
              "      <td>failed</td>\n",
              "      <td>1</td>\n",
              "      <td>US</td>\n",
              "      <td>1</td>\n",
              "      <td>NaN</td>\n",
              "      <td>NaN</td>\n",
              "      <td>NaN</td>\n",
              "      <td>NaN</td>\n",
              "    </tr>\n",
              "    <tr>\n",
              "      <th>3</th>\n",
              "      <td>1000011046</td>\n",
              "      <td>Community Film Project: The Art of Neighborhoo...</td>\n",
              "      <td>Film &amp; Video</td>\n",
              "      <td>Film &amp; Video</td>\n",
              "      <td>USD</td>\n",
              "      <td>2015-08-29 01:00:00</td>\n",
              "      <td>19500</td>\n",
              "      <td>2015-07-04 08:35:03</td>\n",
              "      <td>1283</td>\n",
              "      <td>canceled</td>\n",
              "      <td>14</td>\n",
              "      <td>US</td>\n",
              "      <td>1283</td>\n",
              "      <td>NaN</td>\n",
              "      <td>NaN</td>\n",
              "      <td>NaN</td>\n",
              "      <td>NaN</td>\n",
              "    </tr>\n",
              "    <tr>\n",
              "      <th>4</th>\n",
              "      <td>1000014025</td>\n",
              "      <td>Monarch Espresso Bar</td>\n",
              "      <td>Restaurants</td>\n",
              "      <td>Food</td>\n",
              "      <td>USD</td>\n",
              "      <td>2016-04-01 13:38:27</td>\n",
              "      <td>50000</td>\n",
              "      <td>2016-02-26 13:38:27</td>\n",
              "      <td>52375</td>\n",
              "      <td>successful</td>\n",
              "      <td>224</td>\n",
              "      <td>US</td>\n",
              "      <td>52375</td>\n",
              "      <td>NaN</td>\n",
              "      <td>NaN</td>\n",
              "      <td>NaN</td>\n",
              "      <td>NaN</td>\n",
              "    </tr>\n",
              "  </tbody>\n",
              "</table>\n",
              "</div>\n",
              "      <button class=\"colab-df-convert\" onclick=\"convertToInteractive('df-a6fda150-16fe-4a39-8f2d-78619787a007')\"\n",
              "              title=\"Convert this dataframe to an interactive table.\"\n",
              "              style=\"display:none;\">\n",
              "        \n",
              "  <svg xmlns=\"http://www.w3.org/2000/svg\" height=\"24px\"viewBox=\"0 0 24 24\"\n",
              "       width=\"24px\">\n",
              "    <path d=\"M0 0h24v24H0V0z\" fill=\"none\"/>\n",
              "    <path d=\"M18.56 5.44l.94 2.06.94-2.06 2.06-.94-2.06-.94-.94-2.06-.94 2.06-2.06.94zm-11 1L8.5 8.5l.94-2.06 2.06-.94-2.06-.94L8.5 2.5l-.94 2.06-2.06.94zm10 10l.94 2.06.94-2.06 2.06-.94-2.06-.94-.94-2.06-.94 2.06-2.06.94z\"/><path d=\"M17.41 7.96l-1.37-1.37c-.4-.4-.92-.59-1.43-.59-.52 0-1.04.2-1.43.59L10.3 9.45l-7.72 7.72c-.78.78-.78 2.05 0 2.83L4 21.41c.39.39.9.59 1.41.59.51 0 1.02-.2 1.41-.59l7.78-7.78 2.81-2.81c.8-.78.8-2.07 0-2.86zM5.41 20L4 18.59l7.72-7.72 1.47 1.35L5.41 20z\"/>\n",
              "  </svg>\n",
              "      </button>\n",
              "      \n",
              "  <style>\n",
              "    .colab-df-container {\n",
              "      display:flex;\n",
              "      flex-wrap:wrap;\n",
              "      gap: 12px;\n",
              "    }\n",
              "\n",
              "    .colab-df-convert {\n",
              "      background-color: #E8F0FE;\n",
              "      border: none;\n",
              "      border-radius: 50%;\n",
              "      cursor: pointer;\n",
              "      display: none;\n",
              "      fill: #1967D2;\n",
              "      height: 32px;\n",
              "      padding: 0 0 0 0;\n",
              "      width: 32px;\n",
              "    }\n",
              "\n",
              "    .colab-df-convert:hover {\n",
              "      background-color: #E2EBFA;\n",
              "      box-shadow: 0px 1px 2px rgba(60, 64, 67, 0.3), 0px 1px 3px 1px rgba(60, 64, 67, 0.15);\n",
              "      fill: #174EA6;\n",
              "    }\n",
              "\n",
              "    [theme=dark] .colab-df-convert {\n",
              "      background-color: #3B4455;\n",
              "      fill: #D2E3FC;\n",
              "    }\n",
              "\n",
              "    [theme=dark] .colab-df-convert:hover {\n",
              "      background-color: #434B5C;\n",
              "      box-shadow: 0px 1px 3px 1px rgba(0, 0, 0, 0.15);\n",
              "      filter: drop-shadow(0px 1px 2px rgba(0, 0, 0, 0.3));\n",
              "      fill: #FFFFFF;\n",
              "    }\n",
              "  </style>\n",
              "\n",
              "      <script>\n",
              "        const buttonEl =\n",
              "          document.querySelector('#df-a6fda150-16fe-4a39-8f2d-78619787a007 button.colab-df-convert');\n",
              "        buttonEl.style.display =\n",
              "          google.colab.kernel.accessAllowed ? 'block' : 'none';\n",
              "\n",
              "        async function convertToInteractive(key) {\n",
              "          const element = document.querySelector('#df-a6fda150-16fe-4a39-8f2d-78619787a007');\n",
              "          const dataTable =\n",
              "            await google.colab.kernel.invokeFunction('convertToInteractive',\n",
              "                                                     [key], {});\n",
              "          if (!dataTable) return;\n",
              "\n",
              "          const docLinkHtml = 'Like what you see? Visit the ' +\n",
              "            '<a target=\"_blank\" href=https://colab.research.google.com/notebooks/data_table.ipynb>data table notebook</a>'\n",
              "            + ' to learn more about interactive tables.';\n",
              "          element.innerHTML = '';\n",
              "          dataTable['output_type'] = 'display_data';\n",
              "          await google.colab.output.renderOutput(dataTable, element);\n",
              "          const docLink = document.createElement('div');\n",
              "          docLink.innerHTML = docLinkHtml;\n",
              "          element.appendChild(docLink);\n",
              "        }\n",
              "      </script>\n",
              "    </div>\n",
              "  </div>\n",
              "  "
            ],
            "text/plain": [
              "          ID   ... Unnamed: 16\n",
              "0  1000002330  ...         NaN\n",
              "1  1000004038  ...         NaN\n",
              "2  1000007540  ...         NaN\n",
              "3  1000011046  ...         NaN\n",
              "4  1000014025  ...         NaN\n",
              "\n",
              "[5 rows x 17 columns]"
            ]
          },
          "execution_count": 40,
          "metadata": {},
          "output_type": "execute_result"
        }
      ],
      "source": [
        "#Leemos el archivo con la sugerencia de chardet\n",
        "kickstarter_2016 = pd.read_csv(\"/content/drive/MyDrive/Datasets/ks-projects-201612.csv\", encoding = 'Windows-1252')\n",
        "\n",
        "#Revisamos los primeros datos\n",
        "kickstarter_2016.head()"
      ]
    },
    {
      "cell_type": "markdown",
      "metadata": {
        "id": "iMHdv-7K_7c7"
      },
      "source": [
        "Listo, ahora podemos leer el archivo sin ningún problema. Si nos fijamos en la parte de arriba hay algunos warnings dtype en varias columnas, pero como son pocas advertencias, podemos revisar que es lo que pasa en esas columnas mas adelante.\n",
        "\n",
        "> Ojo, en caso de que el chardet no sea correcto en su predicción del tipo de codificador, lo que nos queda hacer a nosotros es la primera opcion que mencionamos, en la que tenemos que ir buscando entre las diferentes codificaciones hasta encontrar la adecuada."
      ]
    },
    {
      "cell_type": "markdown",
      "metadata": {
        "id": "X3mUz24_AuTp"
      },
      "source": [
        "## Paso 3: Guardar archivo con codificación UTF-8.\n",
        "\n",
        "Una vez que terminamos de generar el archivo en el formato correcto que podamos trabajar con el, lo unico que nos queda por hacer es guardar ese archivo para poder utilizarlo más adelante. La manera mas sencilla de guardar archivos a los que les has cambiado la codificación es guardarlos en formato utf-8. \n",
        "\n",
        "Este es el paso mas sencillo, ya que como comentabamos anteriormente el utf-8 es el codificador default de python, por lo que si lo guardamos asi nadamas, este se va a guardar automaticamente en ese formato."
      ]
    },
    {
      "cell_type": "code",
      "execution_count": null,
      "metadata": {
        "id": "AzD57J4iBic4"
      },
      "outputs": [],
      "source": [
        "kickstarter_2016.to_csv(\"/content/drive/MyDrive/Datasets/ks-limpio-2016.csv\")"
      ]
    },
    {
      "cell_type": "markdown",
      "metadata": {
        "id": "55usZkVnB4rm"
      },
      "source": [
        "# **5. Datos inconsistentes**\n",
        "\n",
        "En este ejercicio veremos como limpiar texto inconsistente dentro de nuestra base de datos. Iniciamos importanto las librerías de python que vamos a utilizar. La base de datos que vamos a utilizar en este ejercicio podemos revisarla en este [link](https://www.kaggle.com/alexisbcook/pakistan-intellectual-capital). Al igual que en los otros procesos que llevamos, tenemos que guardar este archivo en nuestro drive."
      ]
    },
    {
      "cell_type": "code",
      "execution_count": null,
      "metadata": {
        "colab": {
          "base_uri": "https://localhost:8080/"
        },
        "id": "CpY3k5xNEWh0",
        "outputId": "9a848519-08b3-468d-b05e-7d92e242a647"
      },
      "outputs": [
        {
          "name": "stdout",
          "output_type": "stream",
          "text": [
            "Requirement already satisfied: fuzzywuzzy in c:\\users\\martin_navarrete\\anaconda3\\lib\\site-packages (0.18.0)\n"
          ]
        }
      ],
      "source": [
        "!pip3 install fuzzywuzzy\n",
        "# In case anaconda run this in your terminal\n",
        "# conda install -c conda-forge fuzzywuzzy\n"
      ]
    },
    {
      "cell_type": "code",
      "execution_count": null,
      "metadata": {
        "colab": {
          "base_uri": "https://localhost:8080/"
        },
        "id": "eBF_kv2-CX6w",
        "outputId": "0dc98ea4-0517-4d3e-c5ee-d8a33114b960"
      },
      "outputs": [],
      "source": [
        "#Modulos a utlilizar\n",
        "import pandas as pd\n",
        "import numpy as np\n",
        "\n",
        "#Modulos que ayudan a la limpieza de texto\n",
        "import fuzzywuzzy\n",
        "from fuzzywuzzy import process\n",
        "import chardet\n",
        "\n",
        "#Importamos la base de datos para este ejemplo\n",
        "profesores = pd.read_csv(\"winemag-data-130k-v2.csv\")\n",
        "\n",
        "#random seed\n",
        "np.random.seed(0)"
      ]
    },
    {
      "cell_type": "markdown",
      "metadata": {
        "id": "yVTCOtqKEjTd"
      },
      "source": [
        "## Paso 1: Procesamiento preliminar de datos\n",
        "\n",
        "Primeramente tenemos que dar una revisión rápida de los datos."
      ]
    },
    {
      "cell_type": "code",
      "execution_count": null,
      "metadata": {
        "colab": {
          "base_uri": "https://localhost:8080/",
          "height": 513
        },
        "id": "ZjhRQCsTErhS",
        "outputId": "383216d2-011f-4709-ef01-d66e213d620d"
      },
      "outputs": [
        {
          "data": {
            "text/html": [
              "<div>\n",
              "<style scoped>\n",
              "    .dataframe tbody tr th:only-of-type {\n",
              "        vertical-align: middle;\n",
              "    }\n",
              "\n",
              "    .dataframe tbody tr th {\n",
              "        vertical-align: top;\n",
              "    }\n",
              "\n",
              "    .dataframe thead th {\n",
              "        text-align: right;\n",
              "    }\n",
              "</style>\n",
              "<table border=\"1\" class=\"dataframe\">\n",
              "  <thead>\n",
              "    <tr style=\"text-align: right;\">\n",
              "      <th></th>\n",
              "      <th>Unnamed: 0</th>\n",
              "      <th>country</th>\n",
              "      <th>description</th>\n",
              "      <th>designation</th>\n",
              "      <th>points</th>\n",
              "      <th>price</th>\n",
              "      <th>province</th>\n",
              "      <th>region_1</th>\n",
              "      <th>region_2</th>\n",
              "      <th>taster_name</th>\n",
              "      <th>taster_twitter_handle</th>\n",
              "      <th>title</th>\n",
              "      <th>variety</th>\n",
              "      <th>winery</th>\n",
              "    </tr>\n",
              "  </thead>\n",
              "  <tbody>\n",
              "    <tr>\n",
              "      <th>0</th>\n",
              "      <td>0</td>\n",
              "      <td>Italy</td>\n",
              "      <td>Aromas include tropical fruit, broom, brimston...</td>\n",
              "      <td>Vulkà Bianco</td>\n",
              "      <td>87</td>\n",
              "      <td>NaN</td>\n",
              "      <td>Sicily &amp; Sardinia</td>\n",
              "      <td>Etna</td>\n",
              "      <td>NaN</td>\n",
              "      <td>Kerin O’Keefe</td>\n",
              "      <td>@kerinokeefe</td>\n",
              "      <td>Nicosia 2013 Vulkà Bianco  (Etna)</td>\n",
              "      <td>White Blend</td>\n",
              "      <td>Nicosia</td>\n",
              "    </tr>\n",
              "    <tr>\n",
              "      <th>1</th>\n",
              "      <td>1</td>\n",
              "      <td>Portugal</td>\n",
              "      <td>This is ripe and fruity, a wine that is smooth...</td>\n",
              "      <td>Avidagos</td>\n",
              "      <td>87</td>\n",
              "      <td>15.0</td>\n",
              "      <td>Douro</td>\n",
              "      <td>NaN</td>\n",
              "      <td>NaN</td>\n",
              "      <td>Roger Voss</td>\n",
              "      <td>@vossroger</td>\n",
              "      <td>Quinta dos Avidagos 2011 Avidagos Red (Douro)</td>\n",
              "      <td>Portuguese Red</td>\n",
              "      <td>Quinta dos Avidagos</td>\n",
              "    </tr>\n",
              "    <tr>\n",
              "      <th>2</th>\n",
              "      <td>2</td>\n",
              "      <td>US</td>\n",
              "      <td>Tart and snappy, the flavors of lime flesh and...</td>\n",
              "      <td>NaN</td>\n",
              "      <td>87</td>\n",
              "      <td>14.0</td>\n",
              "      <td>Oregon</td>\n",
              "      <td>Willamette Valley</td>\n",
              "      <td>Willamette Valley</td>\n",
              "      <td>Paul Gregutt</td>\n",
              "      <td>@paulgwine</td>\n",
              "      <td>Rainstorm 2013 Pinot Gris (Willamette Valley)</td>\n",
              "      <td>Pinot Gris</td>\n",
              "      <td>Rainstorm</td>\n",
              "    </tr>\n",
              "    <tr>\n",
              "      <th>3</th>\n",
              "      <td>3</td>\n",
              "      <td>US</td>\n",
              "      <td>Pineapple rind, lemon pith and orange blossom ...</td>\n",
              "      <td>Reserve Late Harvest</td>\n",
              "      <td>87</td>\n",
              "      <td>13.0</td>\n",
              "      <td>Michigan</td>\n",
              "      <td>Lake Michigan Shore</td>\n",
              "      <td>NaN</td>\n",
              "      <td>Alexander Peartree</td>\n",
              "      <td>NaN</td>\n",
              "      <td>St. Julian 2013 Reserve Late Harvest Riesling ...</td>\n",
              "      <td>Riesling</td>\n",
              "      <td>St. Julian</td>\n",
              "    </tr>\n",
              "    <tr>\n",
              "      <th>4</th>\n",
              "      <td>4</td>\n",
              "      <td>US</td>\n",
              "      <td>Much like the regular bottling from 2012, this...</td>\n",
              "      <td>Vintner's Reserve Wild Child Block</td>\n",
              "      <td>87</td>\n",
              "      <td>65.0</td>\n",
              "      <td>Oregon</td>\n",
              "      <td>Willamette Valley</td>\n",
              "      <td>Willamette Valley</td>\n",
              "      <td>Paul Gregutt</td>\n",
              "      <td>@paulgwine</td>\n",
              "      <td>Sweet Cheeks 2012 Vintner's Reserve Wild Child...</td>\n",
              "      <td>Pinot Noir</td>\n",
              "      <td>Sweet Cheeks</td>\n",
              "    </tr>\n",
              "  </tbody>\n",
              "</table>\n",
              "</div>"
            ],
            "text/plain": [
              "   Unnamed: 0   country                                        description  \\\n",
              "0           0     Italy  Aromas include tropical fruit, broom, brimston...   \n",
              "1           1  Portugal  This is ripe and fruity, a wine that is smooth...   \n",
              "2           2        US  Tart and snappy, the flavors of lime flesh and...   \n",
              "3           3        US  Pineapple rind, lemon pith and orange blossom ...   \n",
              "4           4        US  Much like the regular bottling from 2012, this...   \n",
              "\n",
              "                          designation  points  price           province  \\\n",
              "0                        Vulkà Bianco      87    NaN  Sicily & Sardinia   \n",
              "1                            Avidagos      87   15.0              Douro   \n",
              "2                                 NaN      87   14.0             Oregon   \n",
              "3                Reserve Late Harvest      87   13.0           Michigan   \n",
              "4  Vintner's Reserve Wild Child Block      87   65.0             Oregon   \n",
              "\n",
              "              region_1           region_2         taster_name  \\\n",
              "0                 Etna                NaN       Kerin O’Keefe   \n",
              "1                  NaN                NaN          Roger Voss   \n",
              "2    Willamette Valley  Willamette Valley        Paul Gregutt   \n",
              "3  Lake Michigan Shore                NaN  Alexander Peartree   \n",
              "4    Willamette Valley  Willamette Valley        Paul Gregutt   \n",
              "\n",
              "  taster_twitter_handle                                              title  \\\n",
              "0          @kerinokeefe                  Nicosia 2013 Vulkà Bianco  (Etna)   \n",
              "1            @vossroger      Quinta dos Avidagos 2011 Avidagos Red (Douro)   \n",
              "2           @paulgwine       Rainstorm 2013 Pinot Gris (Willamette Valley)   \n",
              "3                   NaN  St. Julian 2013 Reserve Late Harvest Riesling ...   \n",
              "4           @paulgwine   Sweet Cheeks 2012 Vintner's Reserve Wild Child...   \n",
              "\n",
              "          variety               winery  \n",
              "0     White Blend              Nicosia  \n",
              "1  Portuguese Red  Quinta dos Avidagos  \n",
              "2      Pinot Gris            Rainstorm  \n",
              "3        Riesling           St. Julian  \n",
              "4      Pinot Noir         Sweet Cheeks  "
            ]
          },
          "execution_count": 6,
          "metadata": {},
          "output_type": "execute_result"
        }
      ],
      "source": [
        "profesores.head()"
      ]
    },
    {
      "cell_type": "markdown",
      "metadata": {
        "id": "YSC7MzgfEx8J"
      },
      "source": [
        "En el caso de inconsistencias en los datos, podemos concentrarnos solo en las columnas de datos que sean de nuestro interes (para cumplir nuestro objetivo). Para este ejemplo estaremos usando la columna de Country. \n",
        "\n",
        "Cuando los datos no son muchos (por ejemplo, si yo buscara inconsistencias en mi lista de alumnos) podríamos tomar la columna y hacer una revisión manual, pero como en este caso nuestra base de datos tiene demasiadas filas como para revisarlas individualmente, podemos hacer lo siguiente."
      ]
    },
    {
      "cell_type": "code",
      "execution_count": null,
      "metadata": {
        "colab": {
          "base_uri": "https://localhost:8080/"
        },
        "id": "JckDK1W2FSaA",
        "outputId": "be7f975d-7956-4192-c2d0-3587aadb6943"
      },
      "outputs": [
        {
          "data": {
            "text/plain": [
              "array(['Italy', 'Portugal', 'US', 'Spain', 'France', 'Germany',\n",
              "       'Argentina', 'Chile', 'Australia', 'Austria', 'South Africa',\n",
              "       'New Zealand', 'Israel', 'Hungary', 'Greece', 'Romania', 'Mexico',\n",
              "       'Canada', nan, 'Turkey', 'Czech Republic', 'Slovenia',\n",
              "       'Luxembourg', 'Croatia', 'Georgia', 'Uruguay', 'England',\n",
              "       'Lebanon', 'Serbia', 'Brazil', 'Moldova', 'Morocco', 'Peru',\n",
              "       'India', 'Bulgaria', 'Cyprus', 'Armenia', 'Switzerland',\n",
              "       'Bosnia and Herzegovina', 'Ukraine', 'Slovakia', 'Macedonia',\n",
              "       'China', 'Egypt'], dtype=object)"
            ]
          },
          "execution_count": 11,
          "metadata": {},
          "output_type": "execute_result"
        }
      ],
      "source": [
        "#Primero obtenemos todos los valores unicos de la columna\n",
        "countries = profesores['country'].unique()\n",
        "\n",
        "#Vamos a acomodarlos en orden alfabetico\n",
        "# countries.sort()\n",
        "countries\n"
      ]
    },
    {
      "cell_type": "markdown",
      "metadata": {
        "id": "ca1F9RiTOPNH"
      },
      "source": [
        "Revisando los resultados vemos que los primeros datos que se muestran pueden ser tomadas en cuenta como nuestras inconsistencias, primeramente porque estan antes de australia, que debería ser el primer dato, y segundo, porque si miramos con atención, podemos ver que esos son valores que se repiten dentro de la lista de valores unicos.\n",
        "\n",
        "Lo primero que podemos hacer es cambiar todos los valores a minuscula (este es un cambio que podemos revertir mas adelante). Otra cosa que podemos corregir son los espacios en blanco que tienen algunas palabras. Python siempre tiene problemas cuando nombres de variables tienen espacios, al igual que nombres de archivos, entonces para estar en el lado seguro, quitamos los espacios.\n",
        "\n"
      ]
    },
    {
      "cell_type": "code",
      "execution_count": null,
      "metadata": {
        "id": "VDsGGXebNmvC"
      },
      "outputs": [],
      "source": [
        "#Primero convertimos todo a lowercase\n",
        "profesores['country'] = profesores['country'].str.lower()\n",
        "\n",
        "#Ahora vamos a quitar todos los espacios en los titulos\n",
        "profesores['country'] = profesores['country'].str.strip()\n"
      ]
    },
    {
      "cell_type": "markdown",
      "metadata": {
        "id": "wU_u0duBOqD-"
      },
      "source": [
        "## Paso 2: Usar Fuzzy matching para corregir inconsistencias\n",
        "\n",
        "Ya que corregimos las partes más sencillas, podemos empezar a revisar si existen inconcistencias mas fuertes. Primero empezamos con la columna de 'Country' para ber si tenemos que limpiar algo más de datos."
      ]
    },
    {
      "cell_type": "code",
      "execution_count": null,
      "metadata": {
        "colab": {
          "base_uri": "https://localhost:8080/"
        },
        "id": "Ttj2sJGKPiV3",
        "outputId": "d39b5d3d-cb87-4ace-e553-a957b40773da"
      },
      "outputs": [
        {
          "data": {
            "text/plain": [
              "array(['italy', 'portugal', 'us', 'spain', 'france', 'germany',\n",
              "       'argentina', 'chile', 'australia', 'austria', 'south africa',\n",
              "       'new zealand', 'israel', 'hungary', 'greece', 'romania', 'mexico',\n",
              "       'canada', nan, 'turkey', 'czech republic', 'slovenia',\n",
              "       'luxembourg', 'croatia', 'georgia', 'uruguay', 'england',\n",
              "       'lebanon', 'serbia', 'brazil', 'moldova', 'morocco', 'peru',\n",
              "       'india', 'bulgaria', 'cyprus', 'armenia', 'switzerland',\n",
              "       'bosnia and herzegovina', 'ukraine', 'slovakia', 'macedonia',\n",
              "       'china', 'egypt'], dtype=object)"
            ]
          },
          "execution_count": 14,
          "metadata": {},
          "output_type": "execute_result"
        }
      ],
      "source": [
        "#Revisamos de nuevo los valores unicos de la columna 'Country'\n",
        "countries = profesores['country'].unique()\n",
        "\n",
        "#Vamos a ordenarlos alfabeticamente e imprimirlas\n",
        "# countries.sort()\n",
        "countries\n"
      ]
    },
    {
      "cell_type": "markdown",
      "metadata": {
        "id": "BvsQG-zOQC0H"
      },
      "source": [
        "Si vemos con atención podemos ver que existe otra inconsistencia. South korea y southkorea deberían ser el mismo. Utilizamos la librería que importamos anteriormente. fuzzywuzzy para poder identificar cuales son los strings mas cercanos unos con otros. \n",
        "\n",
        "Veamos primero la cantidad de datos con las que contamos.\n"
      ]
    },
    {
      "cell_type": "code",
      "execution_count": null,
      "metadata": {
        "colab": {
          "base_uri": "https://localhost:8080/"
        },
        "id": "40r6Sn3oRyBb",
        "outputId": "2658657a-2176-4d32-d248-2f97282911ff"
      },
      "outputs": [
        {
          "data": {
            "text/plain": [
              "(129971, 14)"
            ]
          },
          "execution_count": 15,
          "metadata": {},
          "output_type": "execute_result"
        }
      ],
      "source": [
        "profesores.shape\n"
      ]
    },
    {
      "cell_type": "markdown",
      "metadata": {
        "id": "V-NygyOYR-0u"
      },
      "source": [
        "Este data set es lo suficientemente pequeño que podemos revisar y corregir los errores que encontremos a mano, pero sería bastante ineficiente. Empezar con un ejemplo sencillo nos ayudará a aprender a escalarlo, y cuando tengamos una base de datos mucho mas grande, será mas sencillo limpiar los datos. Primeramente, que es el fuzzy matching:\n",
        "\n",
        "> **Fuzzy matching:** Se traduce como coincidencia difusa. Se trata de un proceso automático que ayuda a encontrar el texto más similar al string objetivo. En general, el concepto de que un string sea más cercano a otro es que tengas que cambiar la menor cantidad de caracteres para que una se transforme en la otra. Por ejemplo, con las palabras australia y austria que tenemos en la base de datos. Si nosotros quisieramos cambiarlas, solo tendrias que remover la 'a' y la 'l' de austr-al-ia y tenemos la palabra austria. A pesar de que esta herramienta no es 100% correcta en el matching, la mayoría de las veces termina siendo de gran ayuda en reducir el tiempo que nos lleva esta etapa.\n",
        "\n",
        "Fuzzywuzzy nos regresa el radio que separa dos strings. Entre más cercano sea el radio a 100, la cantidad de cosas que necesita editar es menor. En el siguiente experimento vamos a tomar 10 de los strings que tenemos en nuestra lista de ciudades que tienen la menor distancia a una palabra en especifico."
      ]
    },
    {
      "cell_type": "code",
      "execution_count": null,
      "metadata": {
        "colab": {
          "base_uri": "https://localhost:8080/"
        },
        "id": "tot4QWFQ3NjB",
        "outputId": "8a73dbe0-beb7-4006-80b3-f7ceef983ba5"
      },
      "outputs": [
        {
          "data": {
            "text/plain": [
              "[('south africa', 70),\n",
              " ('austria', 33),\n",
              " ('croatia', 33),\n",
              " ('georgia', 33),\n",
              " ('lebanon', 33),\n",
              " ('morocco', 33),\n",
              " ('armenia', 33),\n",
              " ('ukraine', 33),\n",
              " ('portugal', 32),\n",
              " ('slovenia', 32)]"
            ]
          },
          "execution_count": 16,
          "metadata": {},
          "output_type": "execute_result"
        }
      ],
      "source": [
        "#Cuales son las 10 palabras que dan mejor match a soth korea\n",
        "\n",
        "matches = fuzzywuzzy.process.extract(\"south korea\", countries, limit = 10, scorer = fuzzywuzzy.fuzz.token_sort_ratio)\n",
        "\n",
        "#imprimimos nuestros resultados\n",
        "matches"
      ]
    },
    {
      "cell_type": "markdown",
      "metadata": {
        "id": "ic5dBj9L3-AZ"
      },
      "source": [
        "Podemos ver que las palabras mas parecidas a 'south korea' en nuestra columna de countries son la misma palabra 'south korea' y 'southkorea'. Vemos que el matching llega a un 48%. Esto vamos a utilizarlo para generar una función que nos ayude a reemplazar strings que esten muy parecidas. En este caso, nuestro radio minimo puede ser de 48%."
      ]
    },
    {
      "cell_type": "code",
      "execution_count": null,
      "metadata": {
        "id": "x8d21sG35TOJ"
      },
      "outputs": [],
      "source": [
        "from os import close\n",
        "#Función para reemplazar las strings\n",
        "\n",
        "def replace_matches(df, column, match_string, min_ratio = 47):\n",
        "  \"\"\"\n",
        "  Esta función reemplaza las filas de la columna de cierto database que le demos\n",
        "  y dependiendo del radio minimo que le indiquemos es el match que tendrá\n",
        "\n",
        "  @param:\n",
        "  df - nuestro dataset\n",
        "  column - columna del data set\n",
        "  match_sting - palabra que vamos a hacer matching\n",
        "  min_ratio - radio minimo para preferencia de matching\n",
        "  \"\"\"\n",
        "  #Establecer cuales son los valores unicos\n",
        "  strings = df[column].unique()\n",
        "  #Tomar los primeros 10 matches con el más alto matching radio.\n",
        "  matches = fuzzywuzzy.process.extract(match_string, strings, limit = 10, scorer =fuzzywuzzy.fuzz.token_sort_ratio)\n",
        "  #Darme los matches que cumplan con el min radio.\n",
        "  close_matches = [matches[0] for matches in matches if matches[1] >= min_ratio]\n",
        "  #Filas con mayor matching\n",
        "  rows_with_matches = df[column].isin(close_matches)\n",
        "  df.loc[rows_with_matches, column] = match_string\n",
        "\n",
        "  print(\"Proceso terminado\")\n",
        "\n"
      ]
    },
    {
      "cell_type": "code",
      "execution_count": null,
      "metadata": {
        "colab": {
          "base_uri": "https://localhost:8080/"
        },
        "id": "FG2AEAEv8a_Q",
        "outputId": "01d0bd29-1ef5-4be7-fc8a-825f0dae728d"
      },
      "outputs": [
        {
          "name": "stdout",
          "output_type": "stream",
          "text": [
            "Proceso terminado\n"
          ]
        }
      ],
      "source": [
        "#Mandamos llamar función de replace matches\n",
        "replace_matches(df = profesores, column = 'country', match_string = \"south korea\")"
      ]
    },
    {
      "cell_type": "markdown",
      "metadata": {
        "id": "oBLyef2b9B-I"
      },
      "source": [
        "Ya que realizamos nuestros cambios en la base de datos, podemos revisar la columna de \"Country\" de nuevo para revisar que nuestro problema con el nombre de \"south korea\" se ha arreglado."
      ]
    },
    {
      "cell_type": "code",
      "execution_count": null,
      "metadata": {
        "colab": {
          "base_uri": "https://localhost:8080/"
        },
        "id": "pEO9HIWB8tNL",
        "outputId": "928bdf6c-42f0-4adf-e8bc-69207d8a9a7a"
      },
      "outputs": [
        {
          "data": {
            "text/plain": [
              "array(['italy', 'portugal', 'us', 'spain', 'france', 'germany',\n",
              "       'argentina', 'chile', 'australia', 'austria', 'south korea',\n",
              "       'new zealand', 'israel', 'hungary', 'greece', 'romania', 'mexico',\n",
              "       'canada', nan, 'turkey', 'czech republic', 'slovenia',\n",
              "       'luxembourg', 'croatia', 'georgia', 'uruguay', 'england',\n",
              "       'lebanon', 'serbia', 'brazil', 'moldova', 'morocco', 'peru',\n",
              "       'india', 'bulgaria', 'cyprus', 'armenia', 'switzerland',\n",
              "       'bosnia and herzegovina', 'ukraine', 'slovakia', 'macedonia',\n",
              "       'china', 'egypt'], dtype=object)"
            ]
          },
          "execution_count": 20,
          "metadata": {},
          "output_type": "execute_result"
        }
      ],
      "source": [
        "#Volvemos a revisar los valores unicos de Country\n",
        "countries = profesores['country'].unique()\n",
        "\n",
        "#Acomodarlas alfabeticamente e imprimirlas\n",
        "# countries.sort()\n",
        "countries"
      ]
    },
    {
      "cell_type": "markdown",
      "metadata": {
        "id": "TLMBBOFX-p5E"
      },
      "source": [
        "Podemos ver que nuestra base de datos ya solo representa un solo valor para south korea, lo que significa que nuestra función hizo su trabajo correctamente."
      ]
    }
  ],
  "metadata": {
    "colab": {
      "provenance": [],
      "toc_visible": true
    },
    "kernelspec": {
      "display_name": "Python 3",
      "name": "python3"
    },
    "language_info": {
      "codemirror_mode": {
        "name": "ipython",
        "version": 3
      },
      "file_extension": ".py",
      "mimetype": "text/x-python",
      "name": "python",
      "nbconvert_exporter": "python",
      "pygments_lexer": "ipython3",
      "version": "3.9.13"
    }
  },
  "nbformat": 4,
  "nbformat_minor": 0
}
